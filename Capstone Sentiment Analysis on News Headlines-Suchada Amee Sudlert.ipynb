{
 "cells": [
  {
   "cell_type": "markdown",
   "id": "d8cb4a1c",
   "metadata": {},
   "source": [
    "# Sentiment Analysis on News Headlines"
   ]
  },
  {
   "cell_type": "markdown",
   "id": "653fdbb5",
   "metadata": {},
   "source": [
    "### About Dataset\n",
    "Context\n",
    "This dataset (FinancialPhraseBank) contains the sentiments for financial news headlines from the perspective of a retail investor.\n",
    "\n",
    "Content\n",
    "The dataset contains two columns, \"Sentiment\" and \"News Headline\". The sentiment can be negative, neutral or positive.\n",
    "\n",
    "Acknowledgements\n",
    "Malo, P., Sinha, A., Korhonen, P., Wallenius, J., & Takala, P. (2014). Good debt or bad debt: Detecting semantic orientations in economic texts. Journal of the Association for Information Science and Technology, 65(4), 782-796.\n",
    "\n",
    "source: https://www.kaggle.com/datasets/ankurzing/sentiment-analysis-for-financial-news\n",
    "\n"
   ]
  },
  {
   "cell_type": "markdown",
   "id": "7ad60bc2",
   "metadata": {},
   "source": [
    "### Part1. Import the Dataset  "
   ]
  },
  {
   "cell_type": "code",
   "execution_count": 1,
   "id": "84d9f566",
   "metadata": {},
   "outputs": [],
   "source": [
    "import pandas as pd\n",
    "import numpy as np\n",
    "import seaborn as sns\n",
    "\n",
    "#pre-processing texts\n",
    "import spacy\n",
    "import regex as re\n",
    "from sklearn.feature_extraction.text import CountVectorizer\n",
    "import nltk #stopwords library\n",
    "\n",
    "# train split-data, CV\n",
    "from sklearn.model_selection import cross_val_score, train_test_split\n",
    "\n",
    "# ML model \n",
    "from sklearn.naive_bayes import BernoulliNB, MultinomialNB\n",
    "from sklearn.ensemble import RandomForestClassifier\n",
    "from sklearn.linear_model import LogisticRegression\n",
    "from sklearn.naive_bayes import GaussianNB \n",
    "from sklearn.neighbors import KNeighborsClassifier\n",
    "from sklearn.naive_bayes import MultinomialNB\n",
    "from mlxtend.classifier import StackingClassifier\n",
    "\n",
    "#Neural network\n",
    "import tensorflow as tf\n",
    "from tensorflow import keras\n",
    "from keras.models import Sequential\n",
    "from keras.layers import Dense\n",
    "from tensorflow.keras import layers\n",
    "import keras.optimizers\n",
    "\n",
    "#evaluation performance \n",
    "from sklearn.metrics import accuracy_score, roc_auc_score, roc_curve, auc\n",
    "from sklearn.metrics import classification_report, confusion_matrix\n",
    "\n",
    "#deployment woth Gradio\n",
    "import gradio as gr \n",
    "\n"
   ]
  },
  {
   "cell_type": "code",
   "execution_count": 2,
   "id": "73681053",
   "metadata": {},
   "outputs": [
    {
     "data": {
      "text/plain": [
       "{'encoding': 'Windows-1252', 'confidence': 0.73, 'language': ''}"
      ]
     },
     "execution_count": 2,
     "metadata": {},
     "output_type": "execute_result"
    }
   ],
   "source": [
    "import chardet\n",
    "with open('all-data.csv', 'rb') as rawdata:\n",
    "    result = chardet.detect(rawdata.read(100000))\n",
    "result"
   ]
  },
  {
   "cell_type": "code",
   "execution_count": 88,
   "id": "408f4888",
   "metadata": {},
   "outputs": [
    {
     "data": {
      "text/plain": [
       "array([['neutral',\n",
       "        'According to Gran , the company has no plans to move all production to Russia , although that is where the company is growing .'],\n",
       "       ['neutral',\n",
       "        'Technopolis plans to develop in stages an area of no less than 100,000 square meters in order to host companies working in computer technologies and telecommunications , the statement said .'],\n",
       "       ['negative',\n",
       "        'The international electronic industry company Elcoteq has laid off tens of employees from its Tallinn facility ; contrary to earlier layoffs the company contracted the ranks of its office workers , the daily Postimees reported .'],\n",
       "       ['positive',\n",
       "        'With the new production plant the company would increase its capacity to meet the expected increase in demand and would improve the use of raw materials and therefore increase the production profitability .'],\n",
       "       ['positive',\n",
       "        \"According to the company 's updated strategy for the years 2009-2012 , Basware targets a long-term net sales growth in the range of 20 % -40 % with an operating profit margin of 10 % -20 % of net sales .\"],\n",
       "       ['positive',\n",
       "        \"FINANCING OF ASPOCOMP 'S GROWTH Aspocomp is aggressively pursuing its growth strategy by increasingly focusing on technologically more demanding HDI printed circuit boards PCBs .\"],\n",
       "       ['positive',\n",
       "        \"For the last quarter of 2010 , Componenta 's net sales doubled to EUR131m from EUR76m for the same period a year earlier , while it moved to a zero pre-tax profit from a pre-tax loss of EUR7m .\"],\n",
       "       ['positive',\n",
       "        'In the third quarter of 2010 , net sales increased by 5.2 % to EUR 205.5 mn , and operating profit by 34.9 % to EUR 23.5 mn .'],\n",
       "       ['positive',\n",
       "        'Operating profit rose to EUR 13.1 mn from EUR 8.7 mn in the corresponding period in 2007 representing 7.7 % of net sales .'],\n",
       "       ['positive',\n",
       "        'Operating profit totalled EUR 21.1 mn , up from EUR 18.6 mn in 2007 , representing 9.7 % of net sales .'],\n",
       "       ['positive',\n",
       "        \"TeliaSonera TLSN said the offer is in line with its strategy to increase its ownership in core business holdings and would strengthen Eesti Telekom 's offering to its customers .\"],\n",
       "       ['positive',\n",
       "        'STORA ENSO , NORSKE SKOG , M-REAL , UPM-KYMMENE Credit Suisse First Boston ( CFSB ) raised the fair value for shares in four of the largest Nordic forestry groups .'],\n",
       "       ['positive',\n",
       "        'A purchase agreement for 7,200 tons of gasoline with delivery at the Hamina terminal , Finland , was signed with Neste Oil OYj at the average Platts index for this September plus eight US dollars per month .'],\n",
       "       ['positive',\n",
       "        'Finnish Talentum reports its operating profit increased to EUR 20.5 mn in 2005 from EUR 9.3 mn in 2004 , and net sales totaled EUR 103.3 mn , up from EUR 96.4 mn .'],\n",
       "       ['positive',\n",
       "        \"Clothing retail chain Sepp+Æl+Æ 's sales increased by 8 % to EUR 155.2 mn , and operating profit rose to EUR 31.1 mn from EUR 17.1 mn in 2004 .\"],\n",
       "       ['positive',\n",
       "        'Consolidated net sales increased 16 % to reach EUR74 .8 m , while operating profit amounted to EUR0 .9 m compared to a loss of EUR0 .7 m in the prior year period .'],\n",
       "       ['positive',\n",
       "        'Foundries division reports its sales increased by 9.7 % to EUR 63.1 mn from EUR 57.5 mn in the corresponding period in 2006 , and sales of the Machine Shop division increased by 16.4 % to EUR 41.2 mn from EUR 35.4 mn in the corresponding period in 2006 .'],\n",
       "       ['positive',\n",
       "        \"HELSINKI ( AFX ) - Shares closed higher , led by Nokia after it announced plans to team up with Sanyo to manufacture 3G handsets , and by Nokian Tyres after its fourth-quarter earnings report beat analysts ' expectations , dealers said .\"],\n",
       "       ['positive',\n",
       "        'Incap Contract Manufacturing Services Pvt Ltd , a subsidiary of Incap Corporation of Finland , plans to double its revenues by 2007-2008 .'],\n",
       "       ['positive',\n",
       "        'Its board of directors will propose a dividend of EUR0 .12 per share for 2010 , up from the EUR0 .08 per share paid in 2009 .'],\n",
       "       ['positive',\n",
       "        'Lifetree was founded in 2000 , and its revenues have risen on an average by 40 % with margins in late 30s .'],\n",
       "       ['positive',\n",
       "        '( Filippova ) A trilateral agreement on investment in the construction of a technology park in St Petersburg was to have been signed in the course of the forum , Days of the Russian Economy , that opened in Helsinki today .'],\n",
       "       ['positive',\n",
       "        \"MegaFon 's subscriber base increased 16.1 % in 2009 to 50.5 million users as of December 31 , while its market share by the number of customers amounted to 24 % as of late 2009 , up from 23 % as of late 2008 , according to TeliaSonera estimates .\"],\n",
       "       ['positive',\n",
       "        'Net income from life insurance doubled to EUR 6.8 mn from EUR 3.2 mn , and net income from non-life insurance rose to EUR 5.2 mn from EUR 1.5 mn in the corresponding period in 2009 .'],\n",
       "       ['positive',\n",
       "        'Net sales increased to EUR193 .3 m from EUR179 .9 m and pretax profit rose by 34.2 % to EUR43 .1 m. ( EUR1 = USD1 .4 )'],\n",
       "       ['positive',\n",
       "        'Net sales surged by 18.5 % to EUR167 .8 m. Teleste said that EUR20 .4 m , or 12.2 % , of the sales came from the acquisitions made in 2009 .'],\n",
       "       ['positive',\n",
       "        \"Nordea Group 's operating profit increased in 2010 by 18 percent year-on-year to 3.64 billion euros and total revenue by 3 percent to 9.33 billion euros .\"],\n",
       "       ['positive',\n",
       "        'Operating profit for the nine-month period increased from EUR13 .6 m , while net sales increased from EUR394 .7 m , as compared to the corresponding period in 2005 .'],\n",
       "       ['positive',\n",
       "        'Operating profit for the nine-month period increased from EUR3 .1 m and net sales increased from EUR61 .5 m , as compared to the corresponding period in 2007 .'],\n",
       "       ['positive',\n",
       "        'Operating profit for the three-month period increased from EUR1 .2 m , while revenue increased from EUR20 .2 m , as compared to the corresponding period in 2005 .'],\n",
       "       ['positive',\n",
       "        \"The Brazilian unit of Finnish security solutions provider F-Secure signed up 1,500 new clients last year , online news source Reseller Web quoted the division 's commercial director , Vladimir Brand+_o , as saying .\"],\n",
       "       ['positive',\n",
       "        \"The company 's net profit rose 11.4 % on the year to 82.2 million euros in 2005 on sales of 686.5 million euros , 13.8 % up on the year , the company said earlier .\"],\n",
       "       ['positive',\n",
       "        \"The Lithuanian beer market made up 14.41 million liters in January , a rise of 0.8 percent from the year-earlier figure , the Lithuanian Brewers ' Association reporting citing the results from its members .\"],\n",
       "       ['positive',\n",
       "        \"Viking Line 's cargo revenue increased by 5.4 % to EUR 21.46 mn , and cargo volume increased by 2.4 % to 70,116 cargo units .\"],\n",
       "       ['positive',\n",
       "        'The fair value of the property portfolio doubled as a result of the Kapiteeli acquisition and totalled EUR 2,686.2 1,259.7 million .'],\n",
       "       ['positive',\n",
       "        '10 February 2011 - Finnish media company Sanoma Oyj HEL : SAA1V said yesterday its 2010 net profit almost tripled to EUR297 .3 m from EUR107 .1 m for 2009 and announced a proposal for a raised payout .'],\n",
       "       ['positive',\n",
       "        'A Helsinki : ELIiV today reported EPS of EUR1 .13 for 2009 , an increase over EPS of EUR1 .12 in 2008 .'],\n",
       "       ['positive',\n",
       "        'Aspo Plc STOCK EXCHANGE RELEASE February 11 , 2011 at8 .45 a.m. ESL Shipping Ltd , part of Aspo Group , has signed a new , long-term contract with Rautaruukki Corporation for the marine transport of raw materials on the Baltic Sea .'],\n",
       "       ['positive',\n",
       "        'Commission income increased by 22 % to EUR 4.4 mn , and lending volume rose by 13.5 % .'],\n",
       "       ['positive',\n",
       "        'In January , traffic , measured in revenue passenger kilometres RPK , went up by 3.2 % and capacity , measured in available seat kilometres ASK , rose by 12.2 % .'],\n",
       "       ['positive',\n",
       "        \"In January-September 2010 , Fiskars ' net profit went up by 14 % year-on-year to EUR 65.4 million and net sales to EUR 525.3 million from EUR 487.7 million .\"],\n",
       "       ['positive',\n",
       "        'Net income from life insurance rose to EUR 16.5 mn from EUR 14.0 mn , and net income from non-life insurance to EUR 22.6 mn from EUR 15.2 mn in 2009 .'],\n",
       "       ['positive',\n",
       "        \"Nyrstar has also agreed to supply to Talvivaara up to 150,000 tonnes of sulphuric acid per annum for use in Talvivaara 's leaching process during the period of supply of the zinc in concentrate .\"],\n",
       "       ['positive',\n",
       "        'Sales for both the Department Store Division and Hobby Hall increased by 7 % , while sales for the clothing store subsidiary Seppala decreased by 4 % .'],\n",
       "       ['positive', 'Sales have risen in other export markets .'],\n",
       "       ['positive',\n",
       "        'Sales increased due to growing market rates and increased operations .'],\n",
       "       ['positive',\n",
       "        'The agreement strengthens our long-term partnership with Nokia Siemens Networks .'],\n",
       "       ['positive',\n",
       "        'The agreement was signed with Biohit Healthcare Ltd , the UK-based subsidiary of Biohit Oyj , a Finnish public company which develops , manufactures and markets liquid handling products and diagnostic test systems .'],\n",
       "       ['positive',\n",
       "        'The company also estimates the already carried out investments to lead to an increase in its net sales for 2010 from 2009 when they reached EUR 141.7 million .'],\n",
       "       ['positive',\n",
       "        \"The company 's order book stood at 1.5 bln euro $ 2.2 bln on September 30 , 2007 , up by 24.2 pct on the year , with international orders amounting to 365 mln euro $ 534.3 mln .\"]],\n",
       "      dtype=object)"
      ]
     },
     "execution_count": 88,
     "metadata": {},
     "output_type": "execute_result"
    },
    {
     "name": "stdout",
     "output_type": "stream",
     "text": [
      "sentence   Lithuanian beer market 14.41 liter January rise 0.8 percent year early figure Lithuanian brewers association report cite result member\n",
      "Outputs shape\n",
      "sentence   february Finnish medium sanoma oyj hel saa1v yesterday net profit triple eur297 .3 eur107 .1 announce proposal raise payout\n",
      "Outputs shape\n"
     ]
    }
   ],
   "source": [
    "#import dataset\n",
    "columns = [ \"Sentiment\", \"News Headline\"]\n",
    "data = pd.read_csv('all-data.csv',encoding='ISO-8859-1', header = None, names = columns)\n",
    "data.head(50).values"
   ]
  },
  {
   "cell_type": "code",
   "execution_count": 4,
   "id": "83d0ef9f",
   "metadata": {},
   "outputs": [
    {
     "data": {
      "text/plain": [
       "(4846, 2)"
      ]
     },
     "execution_count": 4,
     "metadata": {},
     "output_type": "execute_result"
    }
   ],
   "source": [
    "data.shape # check size of dataset"
   ]
  },
  {
   "cell_type": "code",
   "execution_count": 5,
   "id": "803bf1d6",
   "metadata": {},
   "outputs": [
    {
     "data": {
      "text/plain": [
       "Sentiment                                                 positive\n",
       "News Headline    With the new production plant the company woul...\n",
       "Name: 3, dtype: object"
      ]
     },
     "execution_count": 5,
     "metadata": {},
     "output_type": "execute_result"
    }
   ],
   "source": [
    "data.iloc[3]"
   ]
  },
  {
   "cell_type": "code",
   "execution_count": 6,
   "id": "33a76150",
   "metadata": {},
   "outputs": [
    {
     "data": {
      "text/plain": [
       "<AxesSubplot:>"
      ]
     },
     "execution_count": 6,
     "metadata": {},
     "output_type": "execute_result"
    },
    {
     "data": {
      "image/png": "[encoded data removed]",
      "text/plain": [
       "<Figure size 432x288 with 1 Axes>"
      ]
     },
     "metadata": {
      "needs_background": "light"
     },
     "output_type": "display_data"
    }
   ],
   "source": [
    "# check percentage of value in target column('Sentiment')\n",
    "y = data['Sentiment']\n",
    "y.value_counts(normalize = True).plot(kind='bar')"
   ]
  },
  {
   "cell_type": "code",
   "execution_count": 7,
   "id": "f9a5d3c3",
   "metadata": {},
   "outputs": [
    {
     "data": {
      "text/plain": [
       "Sentiment        0\n",
       "News Headline    0\n",
       "dtype: int64"
      ]
     },
     "execution_count": 7,
     "metadata": {},
     "output_type": "execute_result"
    }
   ],
   "source": [
    "#check any Null value in both columns\n",
    "data.isna().sum()"
   ]
  },
  {
   "cell_type": "markdown",
   "id": "3b098e56",
   "metadata": {},
   "source": [
    "### Part2. Pre-Processing data "
   ]
  },
  {
   "cell_type": "raw",
   "id": "330de29e",
   "metadata": {},
   "source": [
    "# filter only Positive and Negative sentiment news headline"
   ]
  },
  {
   "cell_type": "code",
   "execution_count": 8,
   "id": "ad222ad1",
   "metadata": {},
   "outputs": [
    {
     "data": {
      "text/html": [
       "<div>\n",
       "<style scoped>\n",
       "    .dataframe tbody tr th:only-of-type {\n",
       "        vertical-align: middle;\n",
       "    }\n",
       "\n",
       "    .dataframe tbody tr th {\n",
       "        vertical-align: top;\n",
       "    }\n",
       "\n",
       "    .dataframe thead th {\n",
       "        text-align: right;\n",
       "    }\n",
       "</style>\n",
       "<table border=\"1\" class=\"dataframe\">\n",
       "  <thead>\n",
       "    <tr style=\"text-align: right;\">\n",
       "      <th></th>\n",
       "      <th>Sentiment</th>\n",
       "      <th>News Headline</th>\n",
       "    </tr>\n",
       "  </thead>\n",
       "  <tbody>\n",
       "    <tr>\n",
       "      <th>2669</th>\n",
       "      <td>neutral</td>\n",
       "      <td>The proposal by the Board of Directors on the ...</td>\n",
       "    </tr>\n",
       "    <tr>\n",
       "      <th>1011</th>\n",
       "      <td>neutral</td>\n",
       "      <td>`` The summer collection 2008 will be joyfully...</td>\n",
       "    </tr>\n",
       "    <tr>\n",
       "      <th>2230</th>\n",
       "      <td>neutral</td>\n",
       "      <td>The Group 's revenue in 2008 amounted to EUR 9...</td>\n",
       "    </tr>\n",
       "    <tr>\n",
       "      <th>2974</th>\n",
       "      <td>neutral</td>\n",
       "      <td>ISMS does not disclose its financial results ,...</td>\n",
       "    </tr>\n",
       "    <tr>\n",
       "      <th>2011</th>\n",
       "      <td>neutral</td>\n",
       "      <td>Export accounts for about one tenth of the com...</td>\n",
       "    </tr>\n",
       "  </tbody>\n",
       "</table>\n",
       "</div>"
      ],
      "text/plain": [
       "     Sentiment                                      News Headline\n",
       "2669   neutral  The proposal by the Board of Directors on the ...\n",
       "1011   neutral  `` The summer collection 2008 will be joyfully...\n",
       "2230   neutral  The Group 's revenue in 2008 amounted to EUR 9...\n",
       "2974   neutral  ISMS does not disclose its financial results ,...\n",
       "2011   neutral  Export accounts for about one tenth of the com..."
      ]
     },
     "execution_count": 8,
     "metadata": {},
     "output_type": "execute_result"
    }
   ],
   "source": [
    "# mark on index of neutral sentiment\n",
    "mark = data[data['Sentiment'] == 'neutral']\n",
    "mark.sample(5)"
   ]
  },
  {
   "cell_type": "code",
   "execution_count": 9,
   "id": "1de5dd1a",
   "metadata": {},
   "outputs": [
    {
     "data": {
      "text/plain": [
       "(1967, 2)"
      ]
     },
     "execution_count": 9,
     "metadata": {},
     "output_type": "execute_result"
    }
   ],
   "source": [
    "# drop 'neutral sentiment' from the dataset\n",
    "data = data.drop(mark.index, axis = 0)\n",
    "data.shape"
   ]
  },
  {
   "cell_type": "code",
   "execution_count": 10,
   "id": "b3b44c54",
   "metadata": {},
   "outputs": [
    {
     "data": {
      "text/plain": [
       "positive    1363\n",
       "negative     604\n",
       "Name: Sentiment, dtype: int64"
      ]
     },
     "execution_count": 10,
     "metadata": {},
     "output_type": "execute_result"
    }
   ],
   "source": [
    "# check for values in 'sentiment column'\n",
    "data['Sentiment'].value_counts()  # 30.7% is Negative news"
   ]
  },
  {
   "cell_type": "code",
   "execution_count": 11,
   "id": "4567cda8",
   "metadata": {},
   "outputs": [],
   "source": [
    "#convert dataType of target column : positive = 1 , negative = 0\n",
    "data['Sentiment'] = data['Sentiment'].map(lambda x: 1 if x == 'positive' else 0)"
   ]
  },
  {
   "cell_type": "code",
   "execution_count": 12,
   "id": "16fd7352",
   "metadata": {},
   "outputs": [
    {
     "data": {
      "text/plain": [
       "1    1363\n",
       "0     604\n",
       "Name: Sentiment, dtype: int64"
      ]
     },
     "execution_count": 12,
     "metadata": {},
     "output_type": "execute_result"
    }
   ],
   "source": [
    "data['Sentiment'].value_counts()  # 30.6% Negative news"
   ]
  },
  {
   "cell_type": "markdown",
   "id": "f3ddf7c3",
   "metadata": {},
   "source": [
    "#### Pre-processing:  Cleaning text, remove stopwords, lemmatization"
   ]
  },
  {
   "cell_type": "code",
   "execution_count": 13,
   "id": "5335ac86",
   "metadata": {},
   "outputs": [],
   "source": [
    "# apply lowercase to texts\n",
    "data['News Headline']= data['News Headline'].str.lower()"
   ]
  },
  {
   "cell_type": "code",
   "execution_count": 14,
   "id": "067b9f87",
   "metadata": {},
   "outputs": [],
   "source": [
    "#remove all numeric from texts\n",
    "data['News Headline'].replace(\"[^a-zA-Z]\",\" \",regex=True, inplace=True) #pands formatting"
   ]
  },
  {
   "cell_type": "code",
   "execution_count": 15,
   "id": "dacafd92",
   "metadata": {},
   "outputs": [
    {
     "data": {
      "text/plain": [
       "'according to the company  s updated strategy for the years             basware targets a long term net sales growth in the range of            with an operating profit margin of            of net sales  '"
      ]
     },
     "execution_count": 15,
     "metadata": {},
     "output_type": "execute_result"
    }
   ],
   "source": [
    "data['News Headline'].iloc[2]"
   ]
  },
  {
   "cell_type": "code",
   "execution_count": 16,
   "id": "11d7e4ab",
   "metadata": {},
   "outputs": [],
   "source": [
    "# function : clean text, remove punction and apply lemmatization\n",
    "nlp = spacy.load('en_core_web_sm')\n",
    "\n",
    "def convert_text(text):\n",
    "    sent = nlp(text)\n",
    "    ents = {x.text: x for x in sent.ents}\n",
    "    tokens = []\n",
    "    for w in sent:\n",
    "        if w.is_stop or w.is_punct or w.is_digit:\n",
    "            continue\n",
    "        if w.text in ents:\n",
    "            tokens.append(w.text)\n",
    "        else:\n",
    "            tokens.append(w.lemma_.lower())\n",
    "    text = ' '.join(tokens)\n",
    "\n",
    "    return text"
   ]
  },
  {
   "cell_type": "code",
   "execution_count": 17,
   "id": "4a8b703a",
   "metadata": {},
   "outputs": [],
   "source": [
    "news_headline = data['News Headline'].apply(convert_text)"
   ]
  },
  {
   "cell_type": "code",
   "execution_count": 18,
   "id": "74c04f3d",
   "metadata": {},
   "outputs": [
    {
     "name": "stdout",
     "output_type": "stream",
     "text": [
      "a, about, above, after, again, against, ain, all, am, an, and, any, are, aren, aren't, as, at, be, because, been, before, being, below, between, both, but, by, can, couldn, couldn't, d, did, didn, didn't, do, does, doesn, doesn't, doing, don, don't, down, during, each, few, for, from, further, had, hadn, hadn't, has, hasn, hasn't, have, haven, haven't, having, he, her, here, hers, herself, him, himself, his, how, i, if, in, into, is, isn, isn't, it, it's, its, itself, just, ll, m, ma, me, mightn, mightn't, more, most, mustn, mustn't, my, myself, needn, needn't, no, nor, not, now, o, of, off, on, once, only, or, other, our, ours, ourselves, out, over, own, re, s, same, shan, shan't, she, she's, should, should've, shouldn, shouldn't, so, some, such, t, than, that, that'll, the, their, theirs, them, themselves, then, there, these, they, this, those, through, to, too, under, until, up, ve, very, was, wasn, wasn't, we, were, weren, weren't, what, when, where, which, while, who, whom, why, will, with, won, won't, wouldn, wouldn't, y, you, you'd, you'll, you're, you've, your, yours, yourself, yourselves, eur, mn, ac, x, total, million, say, company, st petersburg, job\n"
     ]
    }
   ],
   "source": [
    "# create stopwords list and add a few extra texts\n",
    "stopWords = nltk.corpus.stopwords.words('english')\n",
    "stopWords.sort()\n",
    "stopWords.append('eur')\n",
    "stopWords.append('mn')\n",
    "stopWords.append('ac')\n",
    "stopWords.append('x')\n",
    "stopWords.append('total')\n",
    "stopWords.append('million')\n",
    "stopWords.append('say')\n",
    "stopWords.append('company')\n",
    "stopWords.append('st petersburg')\n",
    "stopWords.append('job')\n",
    "print(', '.join(stopWords))"
   ]
  },
  {
   "cell_type": "code",
   "execution_count": 19,
   "id": "102ee8bb",
   "metadata": {},
   "outputs": [
    {
     "data": {
      "text/plain": [
       "2    [international, electronic, industry, company,...\n",
       "3    [new, production, plant, company, increase, ca...\n",
       "4    [accord, company, s, update, strategy, years, ...\n",
       "5    [financing, aspocomp, s, growth, aspocomp, agg...\n",
       "6    [quarter, componenta, s, net, sale, double, eu...\n",
       "Name: News Headline, dtype: object"
      ]
     },
     "execution_count": 19,
     "metadata": {},
     "output_type": "execute_result"
    }
   ],
   "source": [
    "# create word/token sentence \n",
    "tokens = news_headline  #initial tokens-list same size as news_headline\n",
    "for i, t in enumerate(data['News Headline']):\n",
    "    tokens.iloc[i] = nltk.word_tokenize(news_headline.iloc[i])\n",
    "    \n",
    "tokens.head()"
   ]
  },
  {
   "cell_type": "code",
   "execution_count": 20,
   "id": "55492bce",
   "metadata": {},
   "outputs": [
    {
     "data": {
      "text/plain": [
       "2    [international, electronic, industry, elcoteq,...\n",
       "3    [new, production, plant, increase, capacity, m...\n",
       "4    [accord, update, strategy, years, basware, tar...\n",
       "5    [financing, aspocomp, growth, aspocomp, aggres...\n",
       "6    [quarter, componenta, net, sale, double, perio...\n",
       "Name: News Headline, dtype: object"
      ]
     },
     "execution_count": 20,
     "metadata": {},
     "output_type": "execute_result"
    }
   ],
   "source": [
    "# remove stopwords from the tokens-list\n",
    "tokens_no_stop = tokens # initial list\n",
    "\n",
    "for i, t in enumerate(tokens):\n",
    "    tokens_no_stop.iloc[i] = [word for word in tokens.iloc[i] if not word in stopWords]\n",
    "\n",
    "tokens_no_stop.head()"
   ]
  },
  {
   "cell_type": "code",
   "execution_count": 21,
   "id": "b2317c79",
   "metadata": {},
   "outputs": [
    {
     "data": {
      "text/plain": [
       "2    international electronic industry elcoteq lay ...\n",
       "3    new production plant increase capacity meet ex...\n",
       "4    accord update strategy years basware target lo...\n",
       "5    financing aspocomp growth aspocomp aggressivel...\n",
       "6    quarter componenta net sale double period year...\n",
       "Name: News Headline, dtype: object"
      ]
     },
     "execution_count": 21,
     "metadata": {},
     "output_type": "execute_result"
    }
   ],
   "source": [
    "# join all tokens-word into a sentence\n",
    "news_headline = tokens_no_stop # initial list\n",
    "for row,t in enumerate(tokens_no_stop):\n",
    "    for i in enumerate(tokens_no_stop.iloc[row]):\n",
    "        result = (' '.join(str(x) for x in tokens_no_stop.iloc[row]))\n",
    "    news_headline.iloc[row] = result\n",
    "    \n",
    "news_headline.head()"
   ]
  },
  {
   "cell_type": "code",
   "execution_count": 22,
   "id": "9317c923",
   "metadata": {},
   "outputs": [
    {
     "data": {
      "text/plain": [
       "'purchase agreement ton gasoline delivery hamina terminal finland sign neste oil oyj average platt index september plus dollar month'"
      ]
     },
     "execution_count": 22,
     "metadata": {},
     "output_type": "execute_result"
    }
   ],
   "source": [
    "# sample display a sentence after cleaning texts\n",
    "news_headline.iloc[10]"
   ]
  },
  {
   "cell_type": "markdown",
   "id": "0586a57f",
   "metadata": {},
   "source": [
    "### Part 3. Create a predictor matrix of words from the news with CountVectorizer"
   ]
  },
  {
   "cell_type": "code",
   "execution_count": 23,
   "id": "3921fc3e",
   "metadata": {},
   "outputs": [],
   "source": [
    "cv = CountVectorizer(ngram_range=(1,1), binary=True, stop_words='english', max_features = 6000)\n",
    "words = cv.fit_transform(news_headline)"
   ]
  },
  {
   "cell_type": "code",
   "execution_count": 24,
   "id": "e64a9cf5",
   "metadata": {},
   "outputs": [
    {
     "data": {
      "text/plain": [
       "<1967x3934 sparse matrix of type '<class 'numpy.int64'>'\n",
       "\twith 19848 stored elements in Compressed Sparse Row format>"
      ]
     },
     "execution_count": 24,
     "metadata": {},
     "output_type": "execute_result"
    }
   ],
   "source": [
    "words"
   ]
  },
  {
   "cell_type": "code",
   "execution_count": 25,
   "id": "35476bdc",
   "metadata": {},
   "outputs": [
    {
     "data": {
      "text/plain": [
       "(1967, 3934)"
      ]
     },
     "execution_count": 25,
     "metadata": {},
     "output_type": "execute_result"
    }
   ],
   "source": [
    "#size of vector\n",
    "words.shape"
   ]
  },
  {
   "cell_type": "code",
   "execution_count": 26,
   "id": "23575038",
   "metadata": {},
   "outputs": [
    {
     "name": "stderr",
     "output_type": "stream",
     "text": [
      "/Users/mac/opt/anaconda3/lib/python3.9/site-packages/sklearn/utils/deprecation.py:87: FutureWarning: Function get_feature_names is deprecated; get_feature_names is deprecated in 1.0 and will be removed in 1.2. Please use get_feature_names_out instead.\n",
      "  warnings.warn(msg, category=FutureWarning)\n"
     ]
    },
    {
     "data": {
      "text/html": [
       "<div>\n",
       "<style scoped>\n",
       "    .dataframe tbody tr th:only-of-type {\n",
       "        vertical-align: middle;\n",
       "    }\n",
       "\n",
       "    .dataframe tbody tr th {\n",
       "        vertical-align: top;\n",
       "    }\n",
       "\n",
       "    .dataframe thead th {\n",
       "        text-align: right;\n",
       "    }\n",
       "</style>\n",
       "<table border=\"1\" class=\"dataframe\">\n",
       "  <thead>\n",
       "    <tr style=\"text-align: right;\">\n",
       "      <th></th>\n",
       "      <th>aaland</th>\n",
       "      <th>aalborg</th>\n",
       "      <th>ab</th>\n",
       "      <th>abb</th>\n",
       "      <th>ability</th>\n",
       "      <th>able</th>\n",
       "      <th>abn</th>\n",
       "      <th>abp</th>\n",
       "      <th>abroad</th>\n",
       "      <th>acanb</th>\n",
       "      <th>...</th>\n",
       "      <th>yry</th>\n",
       "      <th>yuval</th>\n",
       "      <th>zahariev</th>\n",
       "      <th>zaharova</th>\n",
       "      <th>zero</th>\n",
       "      <th>zgody</th>\n",
       "      <th>zinc</th>\n",
       "      <th>zoltan</th>\n",
       "      <th>zone</th>\n",
       "      <th>zoo</th>\n",
       "    </tr>\n",
       "  </thead>\n",
       "  <tbody>\n",
       "    <tr>\n",
       "      <th>0</th>\n",
       "      <td>0</td>\n",
       "      <td>0</td>\n",
       "      <td>0</td>\n",
       "      <td>0</td>\n",
       "      <td>0</td>\n",
       "      <td>0</td>\n",
       "      <td>0</td>\n",
       "      <td>0</td>\n",
       "      <td>0</td>\n",
       "      <td>0</td>\n",
       "      <td>...</td>\n",
       "      <td>0</td>\n",
       "      <td>0</td>\n",
       "      <td>0</td>\n",
       "      <td>0</td>\n",
       "      <td>0</td>\n",
       "      <td>0</td>\n",
       "      <td>0</td>\n",
       "      <td>0</td>\n",
       "      <td>0</td>\n",
       "      <td>0</td>\n",
       "    </tr>\n",
       "    <tr>\n",
       "      <th>1</th>\n",
       "      <td>0</td>\n",
       "      <td>0</td>\n",
       "      <td>0</td>\n",
       "      <td>0</td>\n",
       "      <td>0</td>\n",
       "      <td>0</td>\n",
       "      <td>0</td>\n",
       "      <td>0</td>\n",
       "      <td>0</td>\n",
       "      <td>0</td>\n",
       "      <td>...</td>\n",
       "      <td>0</td>\n",
       "      <td>0</td>\n",
       "      <td>0</td>\n",
       "      <td>0</td>\n",
       "      <td>0</td>\n",
       "      <td>0</td>\n",
       "      <td>0</td>\n",
       "      <td>0</td>\n",
       "      <td>0</td>\n",
       "      <td>0</td>\n",
       "    </tr>\n",
       "    <tr>\n",
       "      <th>2</th>\n",
       "      <td>0</td>\n",
       "      <td>0</td>\n",
       "      <td>0</td>\n",
       "      <td>0</td>\n",
       "      <td>0</td>\n",
       "      <td>0</td>\n",
       "      <td>0</td>\n",
       "      <td>0</td>\n",
       "      <td>0</td>\n",
       "      <td>0</td>\n",
       "      <td>...</td>\n",
       "      <td>0</td>\n",
       "      <td>0</td>\n",
       "      <td>0</td>\n",
       "      <td>0</td>\n",
       "      <td>0</td>\n",
       "      <td>0</td>\n",
       "      <td>0</td>\n",
       "      <td>0</td>\n",
       "      <td>0</td>\n",
       "      <td>0</td>\n",
       "    </tr>\n",
       "    <tr>\n",
       "      <th>3</th>\n",
       "      <td>0</td>\n",
       "      <td>0</td>\n",
       "      <td>0</td>\n",
       "      <td>0</td>\n",
       "      <td>0</td>\n",
       "      <td>0</td>\n",
       "      <td>0</td>\n",
       "      <td>0</td>\n",
       "      <td>0</td>\n",
       "      <td>0</td>\n",
       "      <td>...</td>\n",
       "      <td>0</td>\n",
       "      <td>0</td>\n",
       "      <td>0</td>\n",
       "      <td>0</td>\n",
       "      <td>0</td>\n",
       "      <td>0</td>\n",
       "      <td>0</td>\n",
       "      <td>0</td>\n",
       "      <td>0</td>\n",
       "      <td>0</td>\n",
       "    </tr>\n",
       "    <tr>\n",
       "      <th>4</th>\n",
       "      <td>0</td>\n",
       "      <td>0</td>\n",
       "      <td>0</td>\n",
       "      <td>0</td>\n",
       "      <td>0</td>\n",
       "      <td>0</td>\n",
       "      <td>0</td>\n",
       "      <td>0</td>\n",
       "      <td>0</td>\n",
       "      <td>0</td>\n",
       "      <td>...</td>\n",
       "      <td>0</td>\n",
       "      <td>0</td>\n",
       "      <td>0</td>\n",
       "      <td>0</td>\n",
       "      <td>1</td>\n",
       "      <td>0</td>\n",
       "      <td>0</td>\n",
       "      <td>0</td>\n",
       "      <td>0</td>\n",
       "      <td>0</td>\n",
       "    </tr>\n",
       "  </tbody>\n",
       "</table>\n",
       "<p>5 rows × 3934 columns</p>\n",
       "</div>"
      ],
      "text/plain": [
       "   aaland  aalborg  ab  abb  ability  able  abn  abp  abroad  acanb  ...  yry  \\\n",
       "0       0        0   0    0        0     0    0    0       0      0  ...    0   \n",
       "1       0        0   0    0        0     0    0    0       0      0  ...    0   \n",
       "2       0        0   0    0        0     0    0    0       0      0  ...    0   \n",
       "3       0        0   0    0        0     0    0    0       0      0  ...    0   \n",
       "4       0        0   0    0        0     0    0    0       0      0  ...    0   \n",
       "\n",
       "   yuval  zahariev  zaharova  zero  zgody  zinc  zoltan  zone  zoo  \n",
       "0      0         0         0     0      0     0       0     0    0  \n",
       "1      0         0         0     0      0     0       0     0    0  \n",
       "2      0         0         0     0      0     0       0     0    0  \n",
       "3      0         0         0     0      0     0       0     0    0  \n",
       "4      0         0         0     1      0     0       0     0    0  \n",
       "\n",
       "[5 rows x 3934 columns]"
      ]
     },
     "execution_count": 26,
     "metadata": {},
     "output_type": "execute_result"
    }
   ],
   "source": [
    "# convert into panda dataframe\n",
    "words = pd.DataFrame(words.todense(), columns=cv.get_feature_names())\n",
    "words.head()"
   ]
  },
  {
   "cell_type": "code",
   "execution_count": 27,
   "id": "4753e88a",
   "metadata": {},
   "outputs": [
    {
     "name": "stderr",
     "output_type": "stream",
     "text": [
      "/Users/mac/opt/anaconda3/lib/python3.9/site-packages/sklearn/utils/deprecation.py:87: FutureWarning: Function get_feature_names is deprecated; get_feature_names is deprecated in 1.0 and will be removed in 1.2. Please use get_feature_names_out instead.\n",
      "  warnings.warn(msg, category=FutureWarning)\n"
     ]
    },
    {
     "data": {
      "text/plain": [
       "['aaland',\n",
       " 'aalborg',\n",
       " 'ab',\n",
       " 'abb',\n",
       " 'ability',\n",
       " 'able',\n",
       " 'abn',\n",
       " 'abp',\n",
       " 'abroad',\n",
       " 'acanb',\n",
       " 'acando',\n",
       " 'accelerate',\n",
       " 'accept',\n",
       " 'access',\n",
       " 'accessible',\n",
       " 'accessory',\n",
       " 'accommodation',\n",
       " 'accomplish',\n",
       " 'accord',\n",
       " 'accordance',\n",
       " 'account',\n",
       " 'accounting',\n",
       " 'acg',\n",
       " 'achieve',\n",
       " 'acid',\n",
       " 'acknowledge',\n",
       " 'acnielsen',\n",
       " 'acquire',\n",
       " 'acquisition',\n",
       " 'acquit',\n",
       " 'acs',\n",
       " 'act',\n",
       " 'action',\n",
       " 'activate',\n",
       " 'activation',\n",
       " 'active',\n",
       " 'actively',\n",
       " 'activeness',\n",
       " 'activision',\n",
       " 'activity',\n",
       " 'actor',\n",
       " 'actual',\n",
       " 'actually',\n",
       " 'ad',\n",
       " 'adac',\n",
       " 'adanac',\n",
       " 'adaptation',\n",
       " 'adapter',\n",
       " 'add',\n",
       " 'addition',\n",
       " 'additional',\n",
       " 'additionally',\n",
       " 'address',\n",
       " 'adequate',\n",
       " 'adjacent',\n",
       " 'adjust',\n",
       " 'adjusted',\n",
       " 'adjustment',\n",
       " 'administration',\n",
       " 'administrative',\n",
       " 'administrator',\n",
       " 'admire',\n",
       " 'adopt',\n",
       " 'adp',\n",
       " 'adpnews',\n",
       " 'adr',\n",
       " 'advance',\n",
       " 'advanced',\n",
       " 'advantage',\n",
       " 'advertiser',\n",
       " 'advertising',\n",
       " 'advise',\n",
       " 'advisor',\n",
       " 'advisory',\n",
       " 'aero',\n",
       " 'afe',\n",
       " 'affarsvarlden',\n",
       " 'affect',\n",
       " 'affecto',\n",
       " 'affectogenimap',\n",
       " 'affordable',\n",
       " 'aforementioned',\n",
       " 'africa',\n",
       " 'africaand',\n",
       " 'african',\n",
       " 'afternoon',\n",
       " 'afx',\n",
       " 'ag',\n",
       " 'agent',\n",
       " 'aggregate',\n",
       " 'aggressively',\n",
       " 'ago',\n",
       " 'agree',\n",
       " 'agreement',\n",
       " 'agricultural',\n",
       " 'agro',\n",
       " 'ahead',\n",
       " 'ahlstrom',\n",
       " 'aho',\n",
       " 'aim',\n",
       " 'air',\n",
       " 'airbus',\n",
       " 'aircraft',\n",
       " 'airline',\n",
       " 'airlines',\n",
       " 'airport',\n",
       " 'airspace',\n",
       " 'airvana',\n",
       " 'aker',\n",
       " 'aktav',\n",
       " 'aktia',\n",
       " 'alandsbanken',\n",
       " 'ald',\n",
       " 'aldata',\n",
       " 'alexander',\n",
       " 'alholma',\n",
       " 'allege',\n",
       " 'alliance',\n",
       " 'allonen',\n",
       " 'allow',\n",
       " 'alloy',\n",
       " 'alma',\n",
       " 'alternative',\n",
       " 'altia',\n",
       " 'altima',\n",
       " 'altimo',\n",
       " 'altogether',\n",
       " 'aluminij',\n",
       " 'aluminium',\n",
       " 'alus',\n",
       " 'amber',\n",
       " 'ambulance',\n",
       " 'ameas',\n",
       " 'amending',\n",
       " 'amer',\n",
       " 'america',\n",
       " 'american',\n",
       " 'amid',\n",
       " 'ammonia',\n",
       " 'amr',\n",
       " 'amro',\n",
       " 'amsterdam',\n",
       " 'analysis',\n",
       " 'analyst',\n",
       " 'analyze',\n",
       " 'anchor',\n",
       " 'andhra',\n",
       " 'andrew',\n",
       " 'andrey',\n",
       " 'andrius',\n",
       " 'angler',\n",
       " 'animal',\n",
       " 'anjalankoski',\n",
       " 'anniversary',\n",
       " 'announce',\n",
       " 'announced',\n",
       " 'announcement',\n",
       " 'annual',\n",
       " 'annualise',\n",
       " 'annually',\n",
       " 'annum',\n",
       " 'annvik',\n",
       " 'anode',\n",
       " 'answer',\n",
       " 'antibody',\n",
       " 'anticipate',\n",
       " 'antti',\n",
       " 'anttila',\n",
       " 'antwerp',\n",
       " 'apart',\n",
       " 'apartment',\n",
       " 'apetit',\n",
       " 'apollo',\n",
       " 'apoteket',\n",
       " 'apparent',\n",
       " 'apparently',\n",
       " 'applaud',\n",
       " 'apple',\n",
       " 'application',\n",
       " 'apply',\n",
       " 'appoint',\n",
       " 'appointment',\n",
       " 'appreciation',\n",
       " 'approach',\n",
       " 'approval',\n",
       " 'approve',\n",
       " 'approx',\n",
       " 'approximately',\n",
       " 'apr',\n",
       " 'april',\n",
       " 'apsaugo',\n",
       " 'aptly',\n",
       " 'arab',\n",
       " 'arabia',\n",
       " 'arcelormittal',\n",
       " 'archipelago',\n",
       " 'area',\n",
       " 'argument',\n",
       " 'arm',\n",
       " 'army',\n",
       " 'arokarhu',\n",
       " 'arrangement',\n",
       " 'arrive',\n",
       " 'art',\n",
       " 'arthritis',\n",
       " 'arvo',\n",
       " 'arxikon',\n",
       " 'asa',\n",
       " 'ashley',\n",
       " 'asia',\n",
       " 'asian',\n",
       " 'asimilar',\n",
       " 'ask',\n",
       " 'asm',\n",
       " 'asmobile',\n",
       " 'asphalt',\n",
       " 'aspo',\n",
       " 'aspocomp',\n",
       " 'assess',\n",
       " 'asset',\n",
       " 'assignment',\n",
       " 'associate',\n",
       " 'associates',\n",
       " 'association',\n",
       " 'assume',\n",
       " 'assumption',\n",
       " 'assurance',\n",
       " 'astana',\n",
       " 'asx',\n",
       " 'atec',\n",
       " 'atom',\n",
       " 'atomic',\n",
       " 'atria',\n",
       " 'attachment',\n",
       " 'attack',\n",
       " 'attract',\n",
       " 'attractive',\n",
       " 'attribute',\n",
       " 'aug',\n",
       " 'august',\n",
       " 'aulasmaa',\n",
       " 'austin',\n",
       " 'australia',\n",
       " 'australian',\n",
       " 'austria',\n",
       " 'austrian',\n",
       " 'authorisation',\n",
       " 'authorise',\n",
       " 'authority',\n",
       " 'auto',\n",
       " 'automatic',\n",
       " 'automation',\n",
       " 'automobile',\n",
       " 'autotank',\n",
       " 'autumn',\n",
       " 'av',\n",
       " 'available',\n",
       " 'avenue',\n",
       " 'average',\n",
       " 'avoid',\n",
       " 'await',\n",
       " 'award',\n",
       " 'away',\n",
       " 'awkward',\n",
       " 'axa',\n",
       " 'axe',\n",
       " 'ayanambakkam',\n",
       " 'babcock',\n",
       " 'baber',\n",
       " 'baby',\n",
       " 'backbone',\n",
       " 'backdrop',\n",
       " 'backlog',\n",
       " 'bad',\n",
       " 'badly',\n",
       " 'bae',\n",
       " 'bagdonas',\n",
       " 'bahia',\n",
       " 'bahr',\n",
       " 'bakosch',\n",
       " 'balance',\n",
       " 'bali',\n",
       " 'balti',\n",
       " 'baltic',\n",
       " 'baltica',\n",
       " 'baltimore',\n",
       " 'ban',\n",
       " 'bank',\n",
       " 'banked',\n",
       " 'banking',\n",
       " 'barbeque',\n",
       " 'barc',\n",
       " 'barclay',\n",
       " 'bargaining',\n",
       " 'barrel',\n",
       " 'bas',\n",
       " 'base',\n",
       " 'baseball',\n",
       " 'basic',\n",
       " 'basis',\n",
       " 'basware',\n",
       " 'batam',\n",
       " 'batch',\n",
       " 'bavarian',\n",
       " 'bay',\n",
       " 'bbh',\n",
       " 'bbl',\n",
       " 'bcs',\n",
       " 'bctmp',\n",
       " 'bear',\n",
       " 'beat',\n",
       " 'beautifully',\n",
       " 'bed',\n",
       " 'beef',\n",
       " 'beer',\n",
       " 'begin',\n",
       " 'beginning',\n",
       " 'beijing',\n",
       " 'belarus',\n",
       " 'believe',\n",
       " 'beltton',\n",
       " 'benecol',\n",
       " 'beneficial',\n",
       " 'benefit',\n",
       " 'benefon',\n",
       " 'bergqvist',\n",
       " 'bergvik',\n",
       " 'berlin',\n",
       " 'bestseller',\n",
       " 'beteiligungs',\n",
       " 'beverage',\n",
       " 'bg',\n",
       " 'bhushan',\n",
       " 'bi',\n",
       " 'bid',\n",
       " 'bidder',\n",
       " 'bidding',\n",
       " 'big',\n",
       " 'bilbao',\n",
       " 'bilfinger',\n",
       " 'billing',\n",
       " 'billingham',\n",
       " 'billion',\n",
       " 'bim',\n",
       " 'binding',\n",
       " 'biobv',\n",
       " 'biocare',\n",
       " 'biodiesel',\n",
       " 'biofuel',\n",
       " 'biography',\n",
       " 'biohit',\n",
       " 'biotie',\n",
       " 'bit',\n",
       " 'bjorn',\n",
       " 'black',\n",
       " 'blackberry',\n",
       " 'blackstone',\n",
       " 'blame',\n",
       " 'bleaching',\n",
       " 'bln',\n",
       " 'block',\n",
       " 'blue',\n",
       " 'blyk',\n",
       " 'bn',\n",
       " 'bns',\n",
       " 'bo',\n",
       " 'board',\n",
       " 'boat',\n",
       " 'boater',\n",
       " 'bockum',\n",
       " 'bodily',\n",
       " 'body',\n",
       " 'bofa',\n",
       " 'bogus',\n",
       " 'bohemia',\n",
       " 'bold',\n",
       " 'bolster',\n",
       " 'bom',\n",
       " 'bond',\n",
       " 'book',\n",
       " 'booking',\n",
       " 'boom',\n",
       " 'boomeranger',\n",
       " 'boost',\n",
       " 'borba',\n",
       " 'border',\n",
       " 'bore',\n",
       " 'borl',\n",
       " 'borrower',\n",
       " 'bosnia',\n",
       " 'bosse',\n",
       " 'boston',\n",
       " 'bothnia',\n",
       " 'bottle',\n",
       " 'bottled',\n",
       " 'boycott',\n",
       " 'bp',\n",
       " 'brake',\n",
       " 'brand',\n",
       " 'brasil',\n",
       " 'bratsk',\n",
       " 'brazil',\n",
       " 'brazilian',\n",
       " 'bread',\n",
       " 'break',\n",
       " 'breaking',\n",
       " 'breakup',\n",
       " 'breathe',\n",
       " 'breed',\n",
       " 'brewer',\n",
       " 'brewery',\n",
       " 'bridge',\n",
       " 'bring',\n",
       " 'brinkab',\n",
       " 'brisk',\n",
       " 'brisker',\n",
       " 'bristol',\n",
       " 'british',\n",
       " 'brno',\n",
       " 'broad',\n",
       " 'broadband',\n",
       " 'broadcaster',\n",
       " 'broadsheet',\n",
       " 'brockpahler',\n",
       " 'broke',\n",
       " 'broker',\n",
       " 'brokerage',\n",
       " 'bruce',\n",
       " 'bruk',\n",
       " 'bss',\n",
       " 'bt',\n",
       " 'btt',\n",
       " 'buck',\n",
       " 'budap',\n",
       " 'buenavista',\n",
       " 'build',\n",
       " 'builder',\n",
       " 'building',\n",
       " 'bukoba',\n",
       " 'bulgaria',\n",
       " 'bulk',\n",
       " 'bullish',\n",
       " 'bunge',\n",
       " 'burden',\n",
       " 'burgundy',\n",
       " 'burrill',\n",
       " 'bus',\n",
       " 'business',\n",
       " 'buster',\n",
       " 'button',\n",
       " 'buy',\n",
       " 'buyer',\n",
       " 'buyout',\n",
       " 'bypass',\n",
       " 'cabin',\n",
       " 'cable',\n",
       " 'calais',\n",
       " 'calculate',\n",
       " 'calendar',\n",
       " 'california',\n",
       " 'caller',\n",
       " 'camara',\n",
       " 'cameco',\n",
       " 'camera',\n",
       " 'campaign',\n",
       " 'campbell',\n",
       " 'campomos',\n",
       " 'canada',\n",
       " 'canadian',\n",
       " 'cancel',\n",
       " 'cancellation',\n",
       " 'candidate',\n",
       " 'canvas',\n",
       " 'cap',\n",
       " 'capability',\n",
       " 'capable',\n",
       " 'capacitor',\n",
       " 'capacity',\n",
       " 'capital',\n",
       " 'capitalize',\n",
       " 'capman',\n",
       " 'car',\n",
       " 'carbon',\n",
       " 'card',\n",
       " 'care',\n",
       " 'cargo',\n",
       " 'cargotec',\n",
       " 'carlshamn',\n",
       " 'carmaker',\n",
       " 'carolina',\n",
       " 'carriage',\n",
       " 'carrier',\n",
       " 'carry',\n",
       " 'cartel',\n",
       " 'case',\n",
       " 'cash',\n",
       " 'cast',\n",
       " 'catalogue',\n",
       " 'category',\n",
       " 'cause',\n",
       " 'cd',\n",
       " 'cdli',\n",
       " 'cdp',\n",
       " 'cee',\n",
       " 'celbi',\n",
       " 'celebrate',\n",
       " 'cell',\n",
       " 'cellphone',\n",
       " 'celular',\n",
       " 'cement',\n",
       " 'cencorp',\n",
       " 'cent',\n",
       " 'center',\n",
       " 'central',\n",
       " 'centralise',\n",
       " 'centre',\n",
       " 'centric',\n",
       " 'centricity',\n",
       " 'ceo',\n",
       " 'cerberus',\n",
       " 'certain',\n",
       " 'certainly',\n",
       " 'certification',\n",
       " 'certify',\n",
       " 'cessation',\n",
       " 'cet',\n",
       " 'cfo',\n",
       " 'cfr',\n",
       " 'cfsb',\n",
       " 'cgcbv',\n",
       " 'chain',\n",
       " 'chairman',\n",
       " 'chairmanship',\n",
       " 'challenge',\n",
       " 'chamber',\n",
       " 'chance',\n",
       " 'change',\n",
       " 'changshu',\n",
       " 'characteristic',\n",
       " 'charge',\n",
       " 'charger',\n",
       " 'charging',\n",
       " 'charter',\n",
       " 'chartered',\n",
       " 'chassis',\n",
       " 'cheap',\n",
       " 'checkpoint',\n",
       " 'cheer',\n",
       " 'chemical',\n",
       " 'chemicals',\n",
       " 'chennai',\n",
       " 'chf',\n",
       " 'chicago',\n",
       " 'chief',\n",
       " 'child',\n",
       " 'china',\n",
       " 'chinese',\n",
       " 'chip',\n",
       " 'chipping',\n",
       " 'chl',\n",
       " 'choice',\n",
       " 'cholesterol',\n",
       " 'choose',\n",
       " 'chp',\n",
       " 'christmas',\n",
       " 'christopher',\n",
       " 'chrome',\n",
       " 'chuck',\n",
       " 'churn',\n",
       " 'cincinnati',\n",
       " 'cinema',\n",
       " 'cip',\n",
       " 'circuit',\n",
       " 'circulation',\n",
       " 'cision',\n",
       " 'cite',\n",
       " 'citi',\n",
       " 'citigroup',\n",
       " 'city',\n",
       " 'cl',\n",
       " 'claim',\n",
       " 'clarity',\n",
       " 'class',\n",
       " 'classroom',\n",
       " 'clean',\n",
       " 'cleaning',\n",
       " 'clear',\n",
       " 'clearly',\n",
       " 'clerical',\n",
       " 'click',\n",
       " 'client',\n",
       " 'climb',\n",
       " 'climber',\n",
       " 'clinical',\n",
       " 'close',\n",
       " 'closely',\n",
       " 'closing',\n",
       " 'closure',\n",
       " 'clothe',\n",
       " 'clothing',\n",
       " 'cloud',\n",
       " 'cnc',\n",
       " 'coagulant',\n",
       " 'coast',\n",
       " 'coat',\n",
       " 'coated',\n",
       " 'coating',\n",
       " 'cobalt',\n",
       " 'coca',\n",
       " 'cockroft',\n",
       " 'code',\n",
       " 'codetermination',\n",
       " 'cogeneration',\n",
       " 'cola',\n",
       " 'collaborate',\n",
       " 'collaboration',\n",
       " 'collar',\n",
       " 'colleague',\n",
       " 'collection',\n",
       " 'collective',\n",
       " 'color',\n",
       " 'colorful',\n",
       " 'columbia',\n",
       " 'com',\n",
       " 'combination',\n",
       " 'combine',\n",
       " 'come',\n",
       " 'comfort',\n",
       " 'comfortable',\n",
       " 'commanding',\n",
       " 'commence',\n",
       " 'comment',\n",
       " 'commerce',\n",
       " 'commercial',\n",
       " 'commercially',\n",
       " 'commission',\n",
       " 'commit',\n",
       " 'commitment',\n",
       " 'committee',\n",
       " 'communal',\n",
       " 'communicate',\n",
       " 'communication',\n",
       " 'communications',\n",
       " 'community',\n",
       " 'comparable',\n",
       " 'comparative',\n",
       " 'compare',\n",
       " 'comparison',\n",
       " 'compensate',\n",
       " 'compensation',\n",
       " 'compete',\n",
       " 'competence',\n",
       " 'competency',\n",
       " 'competition',\n",
       " 'competitive',\n",
       " 'competitiveness',\n",
       " 'competitor',\n",
       " 'complement',\n",
       " 'complete',\n",
       " 'completion',\n",
       " 'complex',\n",
       " 'complexity',\n",
       " 'comply',\n",
       " 'component',\n",
       " 'componenta',\n",
       " 'composite',\n",
       " 'comprehensive',\n",
       " 'compression',\n",
       " 'comprise',\n",
       " 'comptel',\n",
       " 'computer',\n",
       " 'concentrate',\n",
       " 'concentrator',\n",
       " 'concept',\n",
       " 'concern',\n",
       " 'conciliator',\n",
       " 'conclude',\n",
       " 'condition',\n",
       " 'conditioning',\n",
       " 'conduct',\n",
       " 'confectionery',\n",
       " 'conference',\n",
       " 'confidence',\n",
       " 'confident',\n",
       " 'configure',\n",
       " 'confirm',\n",
       " 'confirmation',\n",
       " 'conjunction',\n",
       " 'connect',\n",
       " 'connection',\n",
       " 'connectivity',\n",
       " 'consecutive',\n",
       " 'consensus',\n",
       " 'conservative',\n",
       " 'consider',\n",
       " 'considerably',\n",
       " 'consideration',\n",
       " 'consist',\n",
       " 'consistency',\n",
       " 'consistent',\n",
       " 'consolidate',\n",
       " 'consolidated',\n",
       " 'consolidation',\n",
       " 'conspiracy',\n",
       " 'constantly',\n",
       " 'construct',\n",
       " 'construction',\n",
       " 'constructive',\n",
       " 'consult',\n",
       " 'consultancy',\n",
       " 'consultant',\n",
       " 'consulting',\n",
       " 'consumer',\n",
       " 'consumption',\n",
       " 'contact',\n",
       " 'contain',\n",
       " 'container',\n",
       " 'content',\n",
       " 'contest',\n",
       " 'continent',\n",
       " 'continuation',\n",
       " 'continue',\n",
       " 'contract',\n",
       " 'contractor',\n",
       " 'contrary',\n",
       " 'contrast',\n",
       " 'contribute',\n",
       " 'contribution',\n",
       " 'control',\n",
       " 'convenient',\n",
       " 'converge',\n",
       " 'convergent',\n",
       " 'convert',\n",
       " 'converter',\n",
       " 'convince',\n",
       " 'cool',\n",
       " 'cooper',\n",
       " 'cooperate',\n",
       " 'cooperation',\n",
       " 'cooperationand',\n",
       " 'cooperative',\n",
       " 'copenhagen',\n",
       " 'copper',\n",
       " 'coq',\n",
       " 'core',\n",
       " 'corp',\n",
       " 'corporate',\n",
       " 'corporation',\n",
       " 'correspond',\n",
       " 'corresponding',\n",
       " 'correspondingly',\n",
       " 'cost',\n",
       " 'council',\n",
       " 'counter',\n",
       " 'countries',\n",
       " 'country',\n",
       " 'couple',\n",
       " 'course',\n",
       " 'court',\n",
       " 'courthouse',\n",
       " 'courtship',\n",
       " 'cover',\n",
       " 'coverage',\n",
       " 'cowie',\n",
       " 'cramo',\n",
       " 'crane',\n",
       " 'create',\n",
       " 'creation',\n",
       " 'credit',\n",
       " 'crew',\n",
       " 'crisis',\n",
       " 'critical',\n",
       " 'criticise',\n",
       " 'cross',\n",
       " 'crown',\n",
       " 'crowns',\n",
       " 'cruise',\n",
       " 'crystal',\n",
       " 'cs',\n",
       " 'cth',\n",
       " 'cto',\n",
       " 'cuautitlan',\n",
       " 'culture',\n",
       " 'cumerio',\n",
       " 'currency',\n",
       " 'current',\n",
       " 'currently',\n",
       " 'cursor',\n",
       " 'curve',\n",
       " 'custody',\n",
       " 'custom',\n",
       " 'customer',\n",
       " 'customise',\n",
       " 'customs',\n",
       " 'cut',\n",
       " 'cutlery',\n",
       " 'cutting',\n",
       " 'cvd',\n",
       " 'cvs',\n",
       " 'cxe',\n",
       " 'cybercom',\n",
       " 'czech',\n",
       " 'czechrepublic',\n",
       " 'dagen',\n",
       " 'dahlstr',\n",
       " 'daily',\n",
       " 'dairy',\n",
       " 'damage',\n",
       " 'damaging',\n",
       " 'dampen',\n",
       " 'danish',\n",
       " 'danske',\n",
       " 'dark',\n",
       " 'dartford',\n",
       " 'data',\n",
       " 'database',\n",
       " 'date',\n",
       " 'datum',\n",
       " 'day',\n",
       " 'db',\n",
       " 'dc',\n",
       " 'dd',\n",
       " 'deal',\n",
       " 'dealer',\n",
       " 'dean',\n",
       " 'debt',\n",
       " 'debut',\n",
       " 'dec',\n",
       " 'decade',\n",
       " 'decaliter',\n",
       " 'december',\n",
       " 'decide',\n",
       " 'decision',\n",
       " 'deck',\n",
       " 'declare',\n",
       " 'decline',\n",
       " 'decrease',\n",
       " 'deem',\n",
       " 'deep',\n",
       " 'deer',\n",
       " 'defense',\n",
       " 'definitive',\n",
       " 'degree',\n",
       " 'degridde',\n",
       " 'delay',\n",
       " 'delhi',\n",
       " 'delight',\n",
       " 'delighted',\n",
       " 'deliver',\n",
       " 'delivery',\n",
       " 'demand',\n",
       " 'demanding',\n",
       " 'demonstrate',\n",
       " 'denmark',\n",
       " 'dental',\n",
       " 'deodorization',\n",
       " 'department',\n",
       " 'depend',\n",
       " 'deployment',\n",
       " 'deposit',\n",
       " 'depositary',\n",
       " 'depot',\n",
       " 'depressed',\n",
       " 'deputy',\n",
       " 'derive',\n",
       " 'design',\n",
       " 'despite',\n",
       " 'destia',\n",
       " 'detached',\n",
       " 'detect',\n",
       " 'detection',\n",
       " 'determine',\n",
       " 'deutsche',\n",
       " 'deutschland',\n",
       " 'devalue',\n",
       " 'develop',\n",
       " 'developer',\n",
       " 'development',\n",
       " 'device',\n",
       " 'diagnose',\n",
       " 'diagnostic',\n",
       " 'dibba',\n",
       " 'dictate',\n",
       " 'diesel',\n",
       " 'dietz',\n",
       " 'different',\n",
       " 'difficult',\n",
       " 'dig',\n",
       " 'digia',\n",
       " 'digital',\n",
       " 'digitalize',\n",
       " 'digitalmediaasia',\n",
       " 'dilute',\n",
       " 'diluted',\n",
       " 'diminish',\n",
       " 'dinmukhamet',\n",
       " 'dip',\n",
       " 'direct',\n",
       " 'directional',\n",
       " 'directive',\n",
       " 'directly',\n",
       " 'director',\n",
       " 'dirk',\n",
       " 'disagree',\n",
       " 'disagreement',\n",
       " 'disappear',\n",
       " 'disappointing',\n",
       " 'disappointment',\n",
       " 'disclosure',\n",
       " 'discount',\n",
       " 'dismiss',\n",
       " 'disposable',\n",
       " 'disposal',\n",
       " 'dispute',\n",
       " 'distinctive',\n",
       " 'distinguished',\n",
       " 'distributable',\n",
       " 'distribute',\n",
       " 'distribution',\n",
       " 'distributor',\n",
       " 'district',\n",
       " 'diversified',\n",
       " 'divest',\n",
       " 'divestment',\n",
       " 'dividend',\n",
       " 'division',\n",
       " 'divisional',\n",
       " 'dkk',\n",
       " 'dma',\n",
       " 'dmasia',\n",
       " 'dna',\n",
       " 'dnb',\n",
       " 'docomo',\n",
       " 'documentation',\n",
       " 'doering',\n",
       " 'dog',\n",
       " 'dok',\n",
       " 'dokta',\n",
       " 'dokumculuk',\n",
       " 'dolce',\n",
       " 'dollar',\n",
       " 'domain',\n",
       " 'domestic',\n",
       " 'dominate',\n",
       " 'door',\n",
       " 'dose',\n",
       " 'double',\n",
       " 'doubling',\n",
       " 'dover',\n",
       " 'downgrade',\n",
       " 'downtown',\n",
       " 'drag',\n",
       " 'drillisch',\n",
       " 'drink',\n",
       " 'drive',\n",
       " 'driver',\n",
       " 'drop',\n",
       " 'drought',\n",
       " 'drug',\n",
       " 'dub',\n",
       " 'dubai',\n",
       " 'dubna',\n",
       " 'duration',\n",
       " 'durham',\n",
       " 'dutch',\n",
       " 'duty',\n",
       " 'dwt',\n",
       " 'dynamic',\n",
       " 'dz',\n",
       " 'early',\n",
       " 'earn',\n",
       " 'earning',\n",
       " 'ease',\n",
       " 'east',\n",
       " 'eastern',\n",
       " 'easy',\n",
       " 'eat',\n",
       " 'eb',\n",
       " 'ebg',\n",
       " 'ebit',\n",
       " 'ebita',\n",
       " 'ebitda',\n",
       " 'eco',\n",
       " 'economic',\n",
       " 'economy',\n",
       " 'ecosystem',\n",
       " 'edita',\n",
       " 'editor',\n",
       " 'education',\n",
       " 'ee',\n",
       " 'eek',\n",
       " 'eesti',\n",
       " 'effect',\n",
       " 'effective',\n",
       " 'effectively',\n",
       " 'effectiveness',\n",
       " 'efficiency',\n",
       " 'efficient',\n",
       " 'effort',\n",
       " 'efo',\n",
       " ...]"
      ]
     },
     "execution_count": 27,
     "metadata": {},
     "output_type": "execute_result"
    }
   ],
   "source": [
    "# all vocaburaly in dataset (with ngram 1 word)\n",
    "dictionary = cv.get_feature_names()\n",
    "dictionary"
   ]
  },
  {
   "cell_type": "markdown",
   "id": "c3d365f8",
   "metadata": {},
   "source": [
    "#### Apply Kbest Feature Selection"
   ]
  },
  {
   "cell_type": "code",
   "execution_count": 29,
   "id": "fb545083",
   "metadata": {},
   "outputs": [
    {
     "name": "stdout",
     "output_type": "stream",
     "text": [
      "Feature data dimension:  (1967, 3934)\n"
     ]
    }
   ],
   "source": [
    "from sklearn.feature_selection import SelectKBest\n",
    "from sklearn.feature_selection import chi2, f_regression\n",
    "print(\"Feature data dimension: \", words.shape) \n",
    "X = words.values\n",
    "y = data['Sentiment']"
   ]
  },
  {
   "cell_type": "code",
   "execution_count": 30,
   "id": "a39f441d",
   "metadata": {},
   "outputs": [
    {
     "name": "stdout",
     "output_type": "stream",
     "text": [
      "After selecting best 3000 features: (1967, 3000)\n"
     ]
    }
   ],
   "source": [
    "select = SelectKBest(score_func=chi2, k=3000)\n",
    "z = select.fit_transform(X,y)\n",
    "\n",
    "print(\"After selecting best 3000 features:\", z.shape) "
   ]
  },
  {
   "cell_type": "code",
   "execution_count": 31,
   "id": "184319ad",
   "metadata": {},
   "outputs": [
    {
     "name": "stdout",
     "output_type": "stream",
     "text": [
      "Selected best 3000:\n",
      "['aaland' 'ability' 'able' ... 'zinc' 'zoltan' 'zoo']\n",
      "3000\n",
      "(1967, 3000)\n"
     ]
    },
    {
     "name": "stderr",
     "output_type": "stream",
     "text": [
      "/Users/mac/opt/anaconda3/lib/python3.9/site-packages/sklearn/utils/deprecation.py:87: FutureWarning: Function get_feature_names is deprecated; get_feature_names is deprecated in 1.0 and will be removed in 1.2. Please use get_feature_names_out instead.\n",
      "  warnings.warn(msg, category=FutureWarning)\n"
     ]
    }
   ],
   "source": [
    "filter = select.get_support()\n",
    "features = np.array(cv.get_feature_names())\n",
    " \n",
    "# print(\"All features:\")\n",
    "# print(features)\n",
    " \n",
    "print(\"Selected best 3000:\")\n",
    "print(features[filter])\n",
    "print(np.size(features[filter]))\n",
    "print(z.shape)\n",
    "z_columns = features[filter]"
   ]
  },
  {
   "cell_type": "code",
   "execution_count": 32,
   "id": "909917b2",
   "metadata": {},
   "outputs": [
    {
     "data": {
      "text/plain": [
       "array([[0, 0, 0, ..., 0, 0, 0],\n",
       "       [0, 0, 0, ..., 0, 0, 0],\n",
       "       [0, 0, 0, ..., 0, 0, 0],\n",
       "       ...,\n",
       "       [0, 0, 0, ..., 0, 0, 0],\n",
       "       [0, 0, 0, ..., 0, 0, 0],\n",
       "       [0, 0, 0, ..., 0, 0, 0]])"
      ]
     },
     "execution_count": 32,
     "metadata": {},
     "output_type": "execute_result"
    }
   ],
   "source": [
    "z"
   ]
  },
  {
   "cell_type": "code",
   "execution_count": 33,
   "id": "dd7b146a",
   "metadata": {},
   "outputs": [
    {
     "data": {
      "text/plain": [
       "(1967, 3000)"
      ]
     },
     "execution_count": 33,
     "metadata": {},
     "output_type": "execute_result"
    }
   ],
   "source": [
    "z_words = pd.DataFrame(z, columns=z_columns)\n",
    "z_words.shape"
   ]
  },
  {
   "cell_type": "markdown",
   "id": "bceeed96",
   "metadata": {},
   "source": [
    "### Part 4. Split data into training and testing set"
   ]
  },
  {
   "cell_type": "code",
   "execution_count": 34,
   "id": "a6cafbe7",
   "metadata": {},
   "outputs": [],
   "source": [
    "# define X and y \n",
    "# X = words.values\n",
    "X = z_words # Kbest featureSelection\n",
    "y = data['Sentiment']"
   ]
  },
  {
   "cell_type": "code",
   "execution_count": 35,
   "id": "be334cac",
   "metadata": {},
   "outputs": [
    {
     "data": {
      "text/plain": [
       "<3000x3000 sparse matrix of type '<class 'numpy.int64'>'\n",
       "\twith 3000 stored elements in Compressed Sparse Row format>"
      ]
     },
     "execution_count": 35,
     "metadata": {},
     "output_type": "execute_result"
    }
   ],
   "source": [
    "cv.fit_transform(X,y)"
   ]
  },
  {
   "cell_type": "code",
   "execution_count": 36,
   "id": "8f79a2c3",
   "metadata": {},
   "outputs": [],
   "source": [
    "# split data traing and testing set with stratify = True for balancing target values and test size = 10% of all data\n",
    "X_train, X_test, y_train, y_test = train_test_split(X, data['Sentiment'], test_size=0.10, stratify=data['Sentiment'])"
   ]
  },
  {
   "cell_type": "code",
   "execution_count": 37,
   "id": "e45c8778",
   "metadata": {},
   "outputs": [
    {
     "name": "stdout",
     "output_type": "stream",
     "text": [
      "(1770, 3000) (197, 3000)\n"
     ]
    }
   ],
   "source": [
    "# check size of data\n",
    "print(X_train.shape, X_test.shape)"
   ]
  },
  {
   "cell_type": "code",
   "execution_count": 38,
   "id": "8e506617",
   "metadata": {},
   "outputs": [
    {
     "name": "stdout",
     "output_type": "stream",
     "text": [
      "1    137\n",
      "0     60\n",
      "Name: Sentiment, dtype: int64\n"
     ]
    },
    {
     "data": {
      "text/plain": [
       "<AxesSubplot:>"
      ]
     },
     "execution_count": 38,
     "metadata": {},
     "output_type": "execute_result"
    },
    {
     "data": {
      "image/png": "[encoded data removed]",
      "text/plain": [
       "<Figure size 432x288 with 1 Axes>"
      ]
     },
     "metadata": {
      "needs_background": "light"
     },
     "output_type": "display_data"
    }
   ],
   "source": [
    "# check values in y_test\n",
    "print(y_test.value_counts())\n",
    "y_test.value_counts(normalize = True).plot(kind='bar')"
   ]
  },
  {
   "cell_type": "code",
   "execution_count": 39,
   "id": "c9434c66",
   "metadata": {},
   "outputs": [
    {
     "name": "stdout",
     "output_type": "stream",
     "text": [
      "1    1226\n",
      "0     544\n",
      "Name: Sentiment, dtype: int64\n"
     ]
    },
    {
     "data": {
      "text/plain": [
       "<AxesSubplot:>"
      ]
     },
     "execution_count": 39,
     "metadata": {},
     "output_type": "execute_result"
    },
    {
     "data": {
      "image/png": "[encoded data removed]",
      "text/plain": [
       "<Figure size 432x288 with 1 Axes>"
      ]
     },
     "metadata": {
      "needs_background": "light"
     },
     "output_type": "display_data"
    }
   ],
   "source": [
    "# check values in y_train\n",
    "print(y_train.value_counts())\n",
    "y_train.value_counts(normalize = True).plot(kind='bar', color = 'g')"
   ]
  },
  {
   "cell_type": "markdown",
   "id": "d30cea33",
   "metadata": {},
   "source": [
    "### Part 5. Build a single model < MultinomialNB model >"
   ]
  },
  {
   "cell_type": "code",
   "execution_count": 41,
   "id": "bd064206",
   "metadata": {},
   "outputs": [],
   "source": [
    "# because we are using the binary feature here it is best to use\n",
    "nb = MultinomialNB()"
   ]
  },
  {
   "cell_type": "code",
   "execution_count": 42,
   "id": "79fe00a2",
   "metadata": {},
   "outputs": [
    {
     "data": {
      "text/plain": [
       "MultinomialNB()"
      ]
     },
     "execution_count": 42,
     "metadata": {},
     "output_type": "execute_result"
    }
   ],
   "source": [
    "nb.fit(X_train, y_train)"
   ]
  },
  {
   "cell_type": "code",
   "execution_count": 43,
   "id": "3256ae60",
   "metadata": {},
   "outputs": [
    {
     "name": "stdout",
     "output_type": "stream",
     "text": [
      "mean_score of cross validation =  0.7814339778613038\n",
      "Report : \n",
      "                precision    recall  f1-score   support\n",
      "\n",
      "           0       0.85      0.91      0.88       544\n",
      "           1       0.96      0.93      0.94      1226\n",
      "\n",
      "    accuracy                           0.92      1770\n",
      "   macro avg       0.90      0.92      0.91      1770\n",
      "weighted avg       0.92      0.92      0.92      1770\n",
      "\n",
      "Accuracy score  :  0.9220338983050848\n"
     ]
    },
    {
     "data": {
      "image/png": "[encoded data removed]",
      "text/plain": [
       "<Figure size 432x288 with 2 Axes>"
      ]
     },
     "metadata": {
      "needs_background": "light"
     },
     "output_type": "display_data"
    }
   ],
   "source": [
    "#  Evaluating the Model\n",
    "nb_scores = cross_val_score(MultinomialNB(), X, y, cv=5)\n",
    "print('mean_score of cross validation = ', np.mean(nb_scores))\n",
    "y_pred = nb.predict(X_train)\n",
    "# plot confusion metrix\n",
    "confusion = pd.crosstab(y_train, y_pred, rownames=['Actual'], colnames=['Predicted'])\n",
    "sns.heatmap(confusion, annot=True,fmt='d')\n",
    "\n",
    "print('Report : \\n ', classification_report(y_train, y_pred))\n",
    "print('Accuracy score  : ' , accuracy_score(y_train, y_pred))"
   ]
  },
  {
   "cell_type": "code",
   "execution_count": 44,
   "id": "bdff5cb1",
   "metadata": {},
   "outputs": [
    {
     "name": "stdout",
     "output_type": "stream",
     "text": [
      "Report : \n",
      "                precision    recall  f1-score   support\n",
      "\n",
      "           0       0.78      0.83      0.81        60\n",
      "           1       0.92      0.90      0.91       137\n",
      "\n",
      "    accuracy                           0.88       197\n",
      "   macro avg       0.85      0.87      0.86       197\n",
      "weighted avg       0.88      0.88      0.88       197\n",
      "\n",
      "Accuracy score  :  0.8781725888324873\n"
     ]
    },
    {
     "data": {
      "image/png": "[encoded data removed]",
      "text/plain": [
       "<Figure size 432x288 with 2 Axes>"
      ]
     },
     "metadata": {
      "needs_background": "light"
     },
     "output_type": "display_data"
    }
   ],
   "source": [
    "#  Evaluating the Model with test set\n",
    "y_pred = nb.predict(X_test)\n",
    "\n",
    "# plot confusion metrix\n",
    "confusion = pd.crosstab(y_test, y_pred, rownames=['Actual'], colnames=['Predicted'])\n",
    "sns.heatmap(confusion, annot=True,fmt='d')\n",
    "\n",
    "print('Report : \\n ', classification_report(y_test, y_pred))\n",
    "print('Accuracy score  : ' , accuracy_score(y_test, y_pred))"
   ]
  },
  {
   "cell_type": "markdown",
   "id": "323f59ac",
   "metadata": {},
   "source": [
    "#### 5.1 Pull out the log probabilities and convert them to probabilities (for positive and for negative)."
   ]
  },
  {
   "cell_type": "code",
   "execution_count": 45,
   "id": "f3e4c0f4",
   "metadata": {},
   "outputs": [
    {
     "data": {
      "text/plain": [
       "(2, 3000)"
      ]
     },
     "execution_count": 45,
     "metadata": {},
     "output_type": "execute_result"
    }
   ],
   "source": [
    "feat_lp = nb.feature_log_prob_\n",
    "feat_lp.shape"
   ]
  },
  {
   "cell_type": "code",
   "execution_count": 46,
   "id": "472a6865",
   "metadata": {},
   "outputs": [
    {
     "data": {
      "text/plain": [
       "array([7.68285187e-05, 3.07314075e-04, 9.98770744e-04, 7.68285187e-05,\n",
       "       7.68285187e-05])"
      ]
     },
     "execution_count": 46,
     "metadata": {},
     "output_type": "execute_result"
    }
   ],
   "source": [
    "positive_p = np.exp(feat_lp[1])\n",
    "positive_p[:5]"
   ]
  },
  {
   "cell_type": "code",
   "execution_count": 47,
   "id": "90edaaab",
   "metadata": {},
   "outputs": [
    {
     "data": {
      "text/plain": [
       "array([0.00029652, 0.00014826, 0.00014826, 0.00029652, 0.00029652])"
      ]
     },
     "execution_count": 47,
     "metadata": {},
     "output_type": "execute_result"
    }
   ],
   "source": [
    "negative_p = np.exp(feat_lp[0])\n",
    "negative_p[:5]"
   ]
  },
  {
   "cell_type": "code",
   "execution_count": 48,
   "id": "2a7bf446",
   "metadata": {},
   "outputs": [],
   "source": [
    "# feat_probs = pd.DataFrame({'pos_p':positive_p, 'neg_p':negative_p, 'feature':words.columns.values})\n",
    "feat_probs = pd.DataFrame({'pos_p':positive_p, 'neg_p':negative_p, 'feature':z_columns})"
   ]
  },
  {
   "cell_type": "code",
   "execution_count": 49,
   "id": "28b68853",
   "metadata": {},
   "outputs": [
    {
     "data": {
      "text/plain": [
       "0      -0.000220\n",
       "1       0.000159\n",
       "2       0.000851\n",
       "3      -0.000220\n",
       "4      -0.000220\n",
       "          ...   \n",
       "2995    0.000005\n",
       "2996    0.000005\n",
       "2997    0.000390\n",
       "2998   -0.000071\n",
       "2999   -0.000071\n",
       "Name: positive_diff, Length: 3000, dtype: float64"
      ]
     },
     "execution_count": 49,
     "metadata": {},
     "output_type": "execute_result"
    }
   ],
   "source": [
    "feat_probs['positive_diff'] = feat_probs.pos_p - feat_probs.neg_p\n",
    "feat_probs['positive_diff'] "
   ]
  },
  {
   "cell_type": "code",
   "execution_count": 50,
   "id": "3a208c15",
   "metadata": {},
   "outputs": [
    {
     "data": {
      "text/plain": [
       "946        increase\n",
       "2142           rise\n",
       "2297        service\n",
       "1562            new\n",
       "42        agreement\n",
       "2335           sign\n",
       "1677          order\n",
       "788            grow\n",
       "194        business\n",
       "2405       solution\n",
       "932         improve\n",
       "363        customer\n",
       "2636     technology\n",
       "112           award\n",
       "1373         market\n",
       "2947            win\n",
       "548          expand\n",
       "2556         supply\n",
       "789          growth\n",
       "1941        project\n",
       "1219           lead\n",
       "1660      operation\n",
       "326        contract\n",
       "2513         strong\n",
       "1927        product\n",
       "1473         mobile\n",
       "757            good\n",
       "46              aim\n",
       "1960        provide\n",
       "14      acquisition\n",
       "Name: feature, dtype: object"
      ]
     },
     "execution_count": 50,
     "metadata": {},
     "output_type": "execute_result"
    }
   ],
   "source": [
    "# Look at the most likely words for positive news\n",
    "feat_probs.sort_values('positive_diff', ascending=False, inplace=True) \n",
    "feat_probs.head(30)['feature']"
   ]
  },
  {
   "cell_type": "code",
   "execution_count": 51,
   "id": "5d931f93",
   "metadata": {},
   "outputs": [
    {
     "data": {
      "text/plain": [
       "385          decrease\n",
       "1934           profit\n",
       "577              fall\n",
       "1659        operating\n",
       "1303             loss\n",
       "285           compare\n",
       "804              half\n",
       "1216              lay\n",
       "2120           result\n",
       "1985          quarter\n",
       "1785           period\n",
       "439              drop\n",
       "1307              low\n",
       "366               cut\n",
       "384           decline\n",
       "469          employee\n",
       "1546      negotiation\n",
       "1792        personnel\n",
       "2241          scanfil\n",
       "2456            staff\n",
       "1043             item\n",
       "342     corresponding\n",
       "2377             slip\n",
       "446             early\n",
       "2913          warning\n",
       "2660      temporarily\n",
       "2042            recur\n",
       "2661        temporary\n",
       "542           exclude\n",
       "1618           number\n",
       "Name: feature, dtype: object"
      ]
     },
     "execution_count": 51,
     "metadata": {},
     "output_type": "execute_result"
    }
   ],
   "source": [
    "# Look at the most likely words for negative news\n",
    "feat_probs.sort_values('positive_diff', ascending=True, inplace=True) #negative\n",
    "feat_probs.head(30)['feature']"
   ]
  },
  {
   "cell_type": "markdown",
   "id": "acd6e866",
   "metadata": {},
   "source": [
    "#### 5.2 Look at the top 10 news and sentiments likely to be positive and top 10 likely to be negative"
   ]
  },
  {
   "cell_type": "code",
   "execution_count": 52,
   "id": "fd8f030a",
   "metadata": {},
   "outputs": [
    {
     "data": {
      "text/plain": [
       "array([[9.99999791e-01, 2.09141044e-07],\n",
       "       [2.12528946e-05, 9.99978747e-01],\n",
       "       [4.44877353e-03, 9.95551226e-01],\n",
       "       ...,\n",
       "       [8.93732569e-01, 1.06267431e-01],\n",
       "       [9.98158494e-01, 1.84150643e-03],\n",
       "       [9.98788031e-01, 1.21196923e-03]])"
      ]
     },
     "execution_count": 52,
     "metadata": {},
     "output_type": "execute_result"
    }
   ],
   "source": [
    "nbfull = MultinomialNB().fit(X,y)\n",
    "nbfull.predict_proba(X)"
   ]
  },
  {
   "cell_type": "code",
   "execution_count": 53,
   "id": "4401e856",
   "metadata": {},
   "outputs": [],
   "source": [
    "pp = pd.DataFrame({\n",
    "        'prob_positive':nbfull.predict_proba(X)[:,1],\n",
    "        'title' : data['News Headline']\n",
    "    })"
   ]
  },
  {
   "cell_type": "code",
   "execution_count": 54,
   "id": "72fb8d0c",
   "metadata": {},
   "outputs": [
    {
     "data": {
      "text/html": [
       "<div>\n",
       "<style scoped>\n",
       "    .dataframe tbody tr th:only-of-type {\n",
       "        vertical-align: middle;\n",
       "    }\n",
       "\n",
       "    .dataframe tbody tr th {\n",
       "        vertical-align: top;\n",
       "    }\n",
       "\n",
       "    .dataframe thead th {\n",
       "        text-align: right;\n",
       "    }\n",
       "</style>\n",
       "<table border=\"1\" class=\"dataframe\">\n",
       "  <thead>\n",
       "    <tr style=\"text-align: right;\">\n",
       "      <th></th>\n",
       "      <th>prob_positive</th>\n",
       "      <th>title</th>\n",
       "    </tr>\n",
       "  </thead>\n",
       "  <tbody>\n",
       "    <tr>\n",
       "      <th>617</th>\n",
       "      <td>1.000000e+00</td>\n",
       "      <td>selects third party logistics leader transplac...</td>\n",
       "    </tr>\n",
       "    <tr>\n",
       "      <th>612</th>\n",
       "      <td>1.000000e+00</td>\n",
       "      <td>outotec oyj press release december            ...</td>\n",
       "    </tr>\n",
       "    <tr>\n",
       "      <th>4080</th>\n",
       "      <td>1.000000e+00</td>\n",
       "      <td>having a china based operation will not only e...</td>\n",
       "    </tr>\n",
       "    <tr>\n",
       "      <th>620</th>\n",
       "      <td>1.000000e+00</td>\n",
       "      <td>based on strong customer interest and feedback...</td>\n",
       "    </tr>\n",
       "    <tr>\n",
       "      <th>203</th>\n",
       "      <td>1.000000e+00</td>\n",
       "      <td>following the acquisition   relacom will stren...</td>\n",
       "    </tr>\n",
       "    <tr>\n",
       "      <th>...</th>\n",
       "      <td>...</td>\n",
       "      <td>...</td>\n",
       "    </tr>\n",
       "    <tr>\n",
       "      <th>4303</th>\n",
       "      <td>1.043030e-07</td>\n",
       "      <td>after chuck smith was laid off on may    from ...</td>\n",
       "    </tr>\n",
       "    <tr>\n",
       "      <th>4299</th>\n",
       "      <td>8.722756e-08</td>\n",
       "      <td>november        finnish office furniture ma...</td>\n",
       "    </tr>\n",
       "    <tr>\n",
       "      <th>3029</th>\n",
       "      <td>4.445807e-08</td>\n",
       "      <td>metso foundries jyvaskyla   inc  will begin pe...</td>\n",
       "    </tr>\n",
       "    <tr>\n",
       "      <th>2756</th>\n",
       "      <td>2.095700e-09</td>\n",
       "      <td>scanfil   a systems supplier and contract manu...</td>\n",
       "    </tr>\n",
       "    <tr>\n",
       "      <th>1986</th>\n",
       "      <td>8.531031e-10</td>\n",
       "      <td>the seawind that was en route from the finnish...</td>\n",
       "    </tr>\n",
       "  </tbody>\n",
       "</table>\n",
       "<p>1967 rows × 2 columns</p>\n",
       "</div>"
      ],
      "text/plain": [
       "      prob_positive                                              title\n",
       "617    1.000000e+00  selects third party logistics leader transplac...\n",
       "612    1.000000e+00  outotec oyj press release december            ...\n",
       "4080   1.000000e+00  having a china based operation will not only e...\n",
       "620    1.000000e+00  based on strong customer interest and feedback...\n",
       "203    1.000000e+00  following the acquisition   relacom will stren...\n",
       "...             ...                                                ...\n",
       "4303   1.043030e-07  after chuck smith was laid off on may    from ...\n",
       "4299   8.722756e-08     november        finnish office furniture ma...\n",
       "3029   4.445807e-08  metso foundries jyvaskyla   inc  will begin pe...\n",
       "2756   2.095700e-09  scanfil   a systems supplier and contract manu...\n",
       "1986   8.531031e-10  the seawind that was en route from the finnish...\n",
       "\n",
       "[1967 rows x 2 columns]"
      ]
     },
     "execution_count": 54,
     "metadata": {},
     "output_type": "execute_result"
    }
   ],
   "source": [
    "pp.sort_values('prob_positive', ascending=False, inplace=True)\n",
    "pp"
   ]
  },
  {
   "cell_type": "code",
   "execution_count": 55,
   "id": "bac28347",
   "metadata": {},
   "outputs": [
    {
     "name": "stdout",
     "output_type": "stream",
     "text": [
      "0.9999999999106706 \t selects third party logistics leader transplace for best in class technology   procurement capabilities   leading specialty packaging manufacturer employs complete  pl solution for supply chain visibility and transportation efficiency to increase service levels and on time deliveries\n",
      "--------------------------------------------------\n",
      "\n",
      "0.9999999987755928 \t outotec oyj press release december                am outotec establishes a new subsidiary in kolkata outotec has established a subsidiary in india in order to better serve its indian customers and to increase its business in the growing indian market  \n",
      "--------------------------------------------------\n",
      "\n",
      "0.9999999986495993 \t having a china based operation will not only enable us to fully leverage our resources and expertise in wireless solutions   but also strengthen our capability to offer industry leading products for our customers in china     \n",
      "--------------------------------------------------\n",
      "\n",
      "0.9999999984732426 \t based on strong customer interest and feedback   using rpm mobile phone manufacturers   operators   enterprises and developer forums can significantly increase their product and service quality   user experience and cost efficiency      tulonen continues  \n",
      "--------------------------------------------------\n",
      "\n",
      "0.999999998416925 \t following the acquisition   relacom will strengthen its presence in finland   serving operators and office market with mobile and fixed networks construction   installation and maintenance services  \n",
      "--------------------------------------------------\n",
      "\n",
      "0.9999999979605434 \t   beijing xfn asia   hong kong listed standard chartered bank said it has signed a china mobile phone dealer financing agreement with nokia   making it the first foreign bank to offer financing to the country  s small and medium enterprise  lr\n",
      "--------------------------------------------------\n",
      "\n",
      "0.9999999978050624 \t with capman as a partner   we will be able to further develop our business and continue to focus on providing quality restaurant services for our customers      says christopher wynne   ceo of papa john  s russia  \n",
      "--------------------------------------------------\n",
      "\n",
      "0.9999999948545621 \t geosentric oyj s geosolutions business unit gypsii   the mobile digital lifestyle application and geo mobility social networking platform   has signed an agreement with nanjing mynet to make the gypsii mobile social networking platform available to customers of china mobile  \n",
      "--------------------------------------------------\n",
      "\n",
      "0.9999999931912384 \t    december        finnish industrial machinery company wartsila oyj abp hel   wrt v said yesterday it had won an order to design a liquefied natural gas lng powered platform supply vessel psv for norwegian oil service provider eidesvik offshore asa osl   eiof  \n",
      "--------------------------------------------------\n",
      "\n",
      "0.9999999931654031 \t the combination of all services enabling us to offer a complex and strengthened service chain not only limited to the baltic port connections but also for getting access to the world wide grimaldi network into the mediterranean   africa and north america    says uwe bakosch  \n",
      "--------------------------------------------------\n",
      "\n"
     ]
    }
   ],
   "source": [
    "# top 10 positive news from prediction of the model\n",
    "pp.sort_values('prob_positive', ascending=False, inplace=True)\n",
    "for Sentiments, title in zip(pp.prob_positive[0:10], pp.title[0:10]):\n",
    "    print(Sentiments, '\\t', title)\n",
    "    print('--------------------------------------------------\\n')"
   ]
  },
  {
   "cell_type": "code",
   "execution_count": 56,
   "id": "37e3aded",
   "metadata": {},
   "outputs": [
    {
     "name": "stdout",
     "output_type": "stream",
     "text": [
      "8.531030615641317e-10 \t the seawind that was en route from the finnish port of turku to stockholm got stuck in ice already around   p m  on wednesday and the regal star  s journey from the swedish port of kapellskar to paldiski in northwestern estonia was cut short at   a m  on thursday  \n",
      "--------------------------------------------------\n",
      "\n",
      "2.095699629776393e-09 \t scanfil   a systems supplier and contract manufacturer to the communications sector   will start personnel negotiations in oulu   in finland   to lay off staff temporarily  \n",
      "--------------------------------------------------\n",
      "\n",
      "4.4458072215828154e-08 \t metso foundries jyvaskyla   inc  will begin personnel negotiations on temporary lay offs and personnel reductions in jyvaskyla   finland  \n",
      "--------------------------------------------------\n",
      "\n",
      "8.722755611574115e-08 \t    november        finnish office furniture maker martela oyj hel   maras said today that it will make redundant three people and other nine will be laid off permanently from the company  s office staff and factory workers  \n",
      "--------------------------------------------------\n",
      "\n",
      "1.0430300832243239e-07 \t after chuck smith was laid off on may    from his          housing consultant job   he and his wife had to cut spending in half for their family of six   having to rely on his wife  s income    about the same as his    alone  \n",
      "--------------------------------------------------\n",
      "\n",
      "1.464645717172496e-07 \t as a result   the company will temporarily lay off      of the whole personnel   approximately     persons at kirkkonummi and nivala factories  \n",
      "--------------------------------------------------\n",
      "\n",
      "2.091410441621983e-07 \t the international electronic industry company elcoteq has laid off tens of employees from its tallinn facility   contrary to earlier layoffs the company contracted the ranks of its office workers   the daily postimees reported  \n",
      "--------------------------------------------------\n",
      "\n",
      "2.4003767312453084e-07 \t most of the permanent layoffs will be in the plywood and sawn timber sectors of the finnish company  s operations at several domestic mills   where earlier this year it temporarily laid off some       workers to save costs  \n",
      "--------------------------------------------------\n",
      "\n",
      "2.8976126247667075e-07 \t dealers said the share was largely hit by investor disappointment about a refining margin of just      usd per barrel for the quarter and the performance of its shipping unit   which saw ebit drop to   mln eur from    mln eur a year amid a fall in volumes and tanker rates  \n",
      "--------------------------------------------------\n",
      "\n",
      "3.5327939830225485e-07 \t the personnel reduction will be carried out in anjalankoski   hollola   jyvaskyla   jarvenpaa   karhula   turku and valkeakoski units  \n",
      "--------------------------------------------------\n",
      "\n"
     ]
    }
   ],
   "source": [
    "# top 10 negative news from prediction of the model\n",
    "pp.sort_values('prob_positive', ascending=True, inplace=True)\n",
    "for Sentiments, title in zip(pp.prob_positive[0:10], pp.title[0:10]):\n",
    "    print(Sentiments, '\\t', title)\n",
    "    print('--------------------------------------------------\\n')"
   ]
  },
  {
   "cell_type": "code",
   "execution_count": 57,
   "id": "ff70312e",
   "metadata": {},
   "outputs": [
    {
     "name": "stdout",
     "output_type": "stream",
     "text": [
      "Accuracy: 0.78 (+/- 0.06)\n"
     ]
    }
   ],
   "source": [
    "# cross validation for all data \n",
    "scores = cross_val_score(nb, X, y, cv = 5, scoring = 'accuracy')\n",
    "print('Accuracy: %.2f (+/- %.2f)' % (scores.mean(), scores.std()))"
   ]
  },
  {
   "cell_type": "markdown",
   "id": "942c6401",
   "metadata": {},
   "source": [
    "### Part 5.2 Build a stacking model"
   ]
  },
  {
   "cell_type": "code",
   "execution_count": 58,
   "id": "b3435636",
   "metadata": {},
   "outputs": [],
   "source": [
    "np.random.seed(0)\n",
    "# list of based-model/learner of stacking model\n",
    "clf1 = BernoulliNB()\n",
    "clf2 = RandomForestClassifier()\n",
    "clf3 = KNeighborsClassifier(n_neighbors=2)\n",
    "clf4 = LogisticRegression(multi_class = 'auto', solver = 'lbfgs')\n",
    "\n",
    "# lr = LogisticRegression(multi_class = 'auto', solver = 'lbfgs')\n",
    "meta = MultinomialNB()\n",
    "sclf = StackingClassifier(\n",
    "    classifiers = [clf1, clf2, clf3,clf4],\n",
    "    meta_classifier = meta)"
   ]
  },
  {
   "cell_type": "code",
   "execution_count": 59,
   "id": "0d16093c",
   "metadata": {},
   "outputs": [
    {
     "name": "stdout",
     "output_type": "stream",
     "text": [
      "Accuracy: 0.70 (+/- 0.03)\n"
     ]
    }
   ],
   "source": [
    "# accuracy score of cross validation of the model\n",
    "scores = cross_val_score(sclf, X, y, cv = 5, scoring = 'accuracy')\n",
    "print('Accuracy: %.2f (+/- %.2f)' % (scores.mean(), scores.std()))"
   ]
  },
  {
   "cell_type": "code",
   "execution_count": 60,
   "id": "4f56eaab",
   "metadata": {},
   "outputs": [
    {
     "data": {
      "text/plain": [
       "array([[0.30734463, 0.69265537],\n",
       "       [0.02088343, 0.97911657],\n",
       "       [0.02088343, 0.97911657],\n",
       "       ...,\n",
       "       [0.30734463, 0.69265537],\n",
       "       [0.30734463, 0.69265537],\n",
       "       [0.30734463, 0.69265537]])"
      ]
     },
     "execution_count": 60,
     "metadata": {},
     "output_type": "execute_result"
    }
   ],
   "source": [
    "sclf.fit(X_train,y_train)\n",
    "sclf.predict_proba(X)"
   ]
  },
  {
   "cell_type": "code",
   "execution_count": 61,
   "id": "2fa29173",
   "metadata": {},
   "outputs": [
    {
     "data": {
      "text/html": [
       "<div>\n",
       "<style scoped>\n",
       "    .dataframe tbody tr th:only-of-type {\n",
       "        vertical-align: middle;\n",
       "    }\n",
       "\n",
       "    .dataframe tbody tr th {\n",
       "        vertical-align: top;\n",
       "    }\n",
       "\n",
       "    .dataframe thead th {\n",
       "        text-align: right;\n",
       "    }\n",
       "</style>\n",
       "<table border=\"1\" class=\"dataframe\">\n",
       "  <thead>\n",
       "    <tr style=\"text-align: right;\">\n",
       "      <th></th>\n",
       "      <th>prob_positive</th>\n",
       "      <th>title</th>\n",
       "      <th>label</th>\n",
       "    </tr>\n",
       "  </thead>\n",
       "  <tbody>\n",
       "    <tr>\n",
       "      <th>2</th>\n",
       "      <td>0.692655</td>\n",
       "      <td>the international electronic industry company ...</td>\n",
       "      <td>0</td>\n",
       "    </tr>\n",
       "    <tr>\n",
       "      <th>3</th>\n",
       "      <td>0.979117</td>\n",
       "      <td>with the new production plant the company woul...</td>\n",
       "      <td>1</td>\n",
       "    </tr>\n",
       "    <tr>\n",
       "      <th>4</th>\n",
       "      <td>0.979117</td>\n",
       "      <td>according to the company  s updated strategy f...</td>\n",
       "      <td>1</td>\n",
       "    </tr>\n",
       "    <tr>\n",
       "      <th>5</th>\n",
       "      <td>0.979117</td>\n",
       "      <td>financing of aspocomp  s growth aspocomp is ag...</td>\n",
       "      <td>1</td>\n",
       "    </tr>\n",
       "    <tr>\n",
       "      <th>6</th>\n",
       "      <td>0.870951</td>\n",
       "      <td>for the last quarter of        componenta  s n...</td>\n",
       "      <td>1</td>\n",
       "    </tr>\n",
       "    <tr>\n",
       "      <th>7</th>\n",
       "      <td>0.979117</td>\n",
       "      <td>in the third quarter of        net sales incre...</td>\n",
       "      <td>1</td>\n",
       "    </tr>\n",
       "    <tr>\n",
       "      <th>8</th>\n",
       "      <td>0.870951</td>\n",
       "      <td>operating profit rose to eur      mn from eur ...</td>\n",
       "      <td>1</td>\n",
       "    </tr>\n",
       "    <tr>\n",
       "      <th>9</th>\n",
       "      <td>0.979117</td>\n",
       "      <td>operating profit totalled eur      mn   up fro...</td>\n",
       "      <td>1</td>\n",
       "    </tr>\n",
       "    <tr>\n",
       "      <th>10</th>\n",
       "      <td>0.979117</td>\n",
       "      <td>teliasonera tlsn said the offer is in line wit...</td>\n",
       "      <td>1</td>\n",
       "    </tr>\n",
       "    <tr>\n",
       "      <th>11</th>\n",
       "      <td>0.979117</td>\n",
       "      <td>stora enso   norske skog   m real   upm kymmen...</td>\n",
       "      <td>1</td>\n",
       "    </tr>\n",
       "  </tbody>\n",
       "</table>\n",
       "</div>"
      ],
      "text/plain": [
       "    prob_positive                                              title  label\n",
       "2        0.692655  the international electronic industry company ...      0\n",
       "3        0.979117  with the new production plant the company woul...      1\n",
       "4        0.979117  according to the company  s updated strategy f...      1\n",
       "5        0.979117  financing of aspocomp  s growth aspocomp is ag...      1\n",
       "6        0.870951  for the last quarter of        componenta  s n...      1\n",
       "7        0.979117  in the third quarter of        net sales incre...      1\n",
       "8        0.870951  operating profit rose to eur      mn from eur ...      1\n",
       "9        0.979117  operating profit totalled eur      mn   up fro...      1\n",
       "10       0.979117  teliasonera tlsn said the offer is in line wit...      1\n",
       "11       0.979117  stora enso   norske skog   m real   upm kymmen...      1"
      ]
     },
     "execution_count": 61,
     "metadata": {},
     "output_type": "execute_result"
    }
   ],
   "source": [
    "# dataframe of probability of prediction from stacking model\n",
    "pp_sclf = pd.DataFrame({\n",
    "        'prob_positive':sclf.predict_proba(X)[:,1],\n",
    "        'title' : data['News Headline'],\n",
    "        'label' : data['Sentiment']\n",
    "    })\n",
    "pp_sclf.head(10)"
   ]
  },
  {
   "cell_type": "code",
   "execution_count": 62,
   "id": "543aa039",
   "metadata": {},
   "outputs": [
    {
     "name": "stdout",
     "output_type": "stream",
     "text": [
      "0.9934599734357483 \t unit costs for flight operations fell by     percent  \n",
      "--------------------------------------------------\n",
      "\n",
      "0.9934599734357483 \t ebit totalled eur      mn   compared to a loss of eur     mn in the corresponding period in       \n",
      "--------------------------------------------------\n",
      "\n",
      "0.9934599734357483 \t nokia will certainly disagree with qualcomm  s views on the patent situation  \n",
      "--------------------------------------------------\n",
      "\n",
      "0.9934599734357483 \t consolidated operating profit excluding one off items was eur      mn   up from eur      mn a year earlier  \n",
      "--------------------------------------------------\n",
      "\n",
      "0.9934599734357483 \t the period end cash and cash equivalents totaled eur     m   compared to eur      m in the previous year  \n",
      "--------------------------------------------------\n",
      "\n",
      "0.9934599734357483 \t finnish financial group aktia reports operating profit of eur      mn in january september        up from eur      mn in the corresponding period in       \n",
      "--------------------------------------------------\n",
      "\n",
      "0.9934599734357483 \t operating profit was eur     mn   up from a loss of eur   mn a year earlier  \n",
      "--------------------------------------------------\n",
      "\n",
      "0.9934599734357483 \t operating profit totaled eur      mn compared to eur      mn in the corresponding period in       \n",
      "--------------------------------------------------\n",
      "\n",
      "0.9934599734357483 \t finnish consumer packaging manufacturer huhtamaki oyj said it swung to a net profit of      mln euro         mln in the first nine months of      from a net loss of     mln euro       mln in the same period of       \n",
      "--------------------------------------------------\n",
      "\n",
      "0.9934599734357483 \t in the first quarter of        the mark to market result was a pretax profit of eur     million versus a loss of eur    million in the same period last year  \n",
      "--------------------------------------------------\n",
      "\n"
     ]
    }
   ],
   "source": [
    "#top 10 positive news from prediction\n",
    "pp_sclf.sort_values('prob_positive', ascending=False, inplace=True)\n",
    "for Sentiment, title in zip(pp_sclf.prob_positive[0:10], pp_sclf.title[0:10]):\n",
    "    print(Sentiment, '\\t', title)\n",
    "    print('--------------------------------------------------\\n')"
   ]
  },
  {
   "cell_type": "code",
   "execution_count": 63,
   "id": "79cc6c0d",
   "metadata": {},
   "outputs": [
    {
     "name": "stdout",
     "output_type": "stream",
     "text": [
      "0.4102348007282279 \t also construction expenses have gone up in russia  \n",
      "--------------------------------------------------\n",
      "\n",
      "0.4102348007282279 \t operating profit totaled eur     mn   down from eur     mn in the corresponding period in       \n",
      "--------------------------------------------------\n",
      "\n",
      "0.4102348007282279 \t finnish insurance company fennia and kesko group are ending their loyal customer cooperation  \n",
      "--------------------------------------------------\n",
      "\n",
      "0.4102348007282279 \t profit before taxes was eur     mn   down from eur     mn  \n",
      "--------------------------------------------------\n",
      "\n",
      "0.4102348007282279 \t earnings per share   eps   amounted to eur        down from eur       \n",
      "--------------------------------------------------\n",
      "\n",
      "0.4102348007282279 \t operating profit totalled eur      mn   down from eur      mn a year earlier  \n",
      "--------------------------------------------------\n",
      "\n",
      "0.4102348007282279 \t thanks to the internet   consumers compare products more than previously and finnish companies are not competitive  \n",
      "--------------------------------------------------\n",
      "\n",
      "0.4102348007282279 \t profit for the period totaled eur      mn   up from eur      mn in the corresponding period in       \n",
      "--------------------------------------------------\n",
      "\n",
      "0.4102348007282279 \t finnish textiles and clothing group marimekko oyj posted a net profit of      mln euro        mln for        compared to     mln euro        mln for       \n",
      "--------------------------------------------------\n",
      "\n",
      "0.4102348007282279 \t profit before taxes amounted to eur      mn   down from eur       mn a year ago  \n",
      "--------------------------------------------------\n",
      "\n",
      "0.4102348007282279 \t the company expects its net sales for the whole      to remain below the      level  \n",
      "--------------------------------------------------\n",
      "\n",
      "0.4102348007282279 \t cash flow after investments amounted to eur  m   down from eur  m  \n",
      "--------------------------------------------------\n",
      "\n",
      "0.4102348007282279 \t in q  of        profit before taxes amounted to eur      mn   down from eur      mn in q  of       \n",
      "--------------------------------------------------\n",
      "\n",
      "0.4102348007282279 \t finnish meat company atria can no longer promise a sufficient amount of domestic beef to its customers  \n",
      "--------------------------------------------------\n",
      "\n",
      "0.4102348007282279 \t diluted earnings per share   eps   stood at eur      versus eur       \n",
      "--------------------------------------------------\n",
      "\n",
      "0.4102348007282279 \t earnings per share eps are seen at eur        up from eur       \n",
      "--------------------------------------------------\n",
      "\n",
      "0.4102348007282279 \t last year       million passengers flew the airline   down   percent from       \n",
      "--------------------------------------------------\n",
      "\n",
      "0.4102348007282279 \t in the reporting period   eps stood at eur      versus eur       \n",
      "--------------------------------------------------\n",
      "\n",
      "0.4102348007282279 \t earnings per share were at loss of eur       \n",
      "--------------------------------------------------\n",
      "\n",
      "0.4102348007282279 \t revenue for the quarter totaled      billion   down   percent from      billion in the fourth quarter in       \n",
      "--------------------------------------------------\n",
      "\n",
      "0.4102348007282279 \t operating profit totaled eur     mn   down from eur     mn in the corresponding period in       \n",
      "--------------------------------------------------\n",
      "\n",
      "0.4102348007282279 \t sales at the tiimari business went down by     to eur      million   while gallerix stores saw      growth to eur   million  \n",
      "--------------------------------------------------\n",
      "\n",
      "0.4102348007282279 \t operating profit in the fourth quarter went down to eur m from eur     m for the corresponding period of      as it included costs of growth projects  \n",
      "--------------------------------------------------\n",
      "\n",
      "0.4102348007282279 \t talentum  s net sales in september were smaller than expected  \n",
      "--------------------------------------------------\n",
      "\n",
      "0.4102348007282279 \t finnish business software group affectogenimap oyj said its net profit halved to     mln euro         mln   in the first nine months of      from     mln euro         mln   in the same period of       \n",
      "--------------------------------------------------\n",
      "\n",
      "0.4102348007282279 \t profit after taxes for the period was up to eur     m   from eur      m last year  \n",
      "--------------------------------------------------\n",
      "\n",
      "0.4102348007282279 \t operating profit totalled eur      mn   down from eur      mn in the first quarter of       \n",
      "--------------------------------------------------\n",
      "\n",
      "0.4102348007282279 \t however   this increases signaling traffic which wastes network resources and allows fewer smartphones to connect  \n",
      "--------------------------------------------------\n",
      "\n",
      "0.4102348007282279 \t in sweden   there is an oversupply of pharmacies  \n",
      "--------------------------------------------------\n",
      "\n",
      "0.4102348007282279 \t it is a disappointment to see the plan folded  \n",
      "--------------------------------------------------\n",
      "\n"
     ]
    }
   ],
   "source": [
    "#top 10 negative news from prediction\n",
    "pp_sclf.sort_values('prob_positive', ascending=True, inplace=True)\n",
    "for Sentiment, title in zip(pp_sclf.prob_positive[0:30], pp_sclf.title[0:30]):\n",
    "    print(Sentiment, '\\t', title)\n",
    "    print('--------------------------------------------------\\n')"
   ]
  },
  {
   "cell_type": "code",
   "execution_count": 64,
   "id": "dbf92c64",
   "metadata": {},
   "outputs": [
    {
     "name": "stdout",
     "output_type": "stream",
     "text": [
      "Report : \n",
      "                precision    recall  f1-score   support\n",
      "\n",
      "           0       0.96      0.15      0.26       544\n",
      "           1       0.72      1.00      0.84      1226\n",
      "\n",
      "    accuracy                           0.74      1770\n",
      "   macro avg       0.84      0.57      0.55      1770\n",
      "weighted avg       0.80      0.74      0.66      1770\n",
      "\n",
      "Accuracy score  :  0.7361581920903955\n"
     ]
    },
    {
     "data": {
      "image/png": "[encoded data removed]",
      "text/plain": [
       "<Figure size 432x288 with 2 Axes>"
      ]
     },
     "metadata": {
      "needs_background": "light"
     },
     "output_type": "display_data"
    }
   ],
   "source": [
    "#  Evaluating the Model\n",
    "y_pred = sclf.predict(X_train)\n",
    "# plot confusion metrix\n",
    "confusion = pd.crosstab(y_train, y_pred, rownames=['Actual'], colnames=['Predicted'])\n",
    "sns.heatmap(confusion, annot=True,fmt='d', cmap = 'Blues')\n",
    "\n",
    "print('Report : \\n ', classification_report(y_train, y_pred))\n",
    "print('Accuracy score  : ' , accuracy_score(y_train, y_pred))"
   ]
  },
  {
   "cell_type": "code",
   "execution_count": 65,
   "id": "83d897a9",
   "metadata": {},
   "outputs": [
    {
     "name": "stdout",
     "output_type": "stream",
     "text": [
      "Report : \n",
      "                precision    recall  f1-score   support\n",
      "\n",
      "           0       0.40      0.03      0.06        60\n",
      "           1       0.70      0.98      0.81       137\n",
      "\n",
      "    accuracy                           0.69       197\n",
      "   macro avg       0.55      0.51      0.44       197\n",
      "weighted avg       0.61      0.69      0.59       197\n",
      "\n",
      "Accuracy score  :  0.6903553299492385\n"
     ]
    },
    {
     "data": {
      "image/png": "[encoded data removed]",
      "text/plain": [
       "<Figure size 432x288 with 2 Axes>"
      ]
     },
     "metadata": {
      "needs_background": "light"
     },
     "output_type": "display_data"
    }
   ],
   "source": [
    "######  Evaluating the Model\n",
    "y_pred2 = sclf.predict(X_test)\n",
    "\n",
    "# plot confusion metrix\n",
    "confusion = pd.crosstab(y_test, y_pred2, rownames=['Actual'], colnames=['Predicted'])\n",
    "sns.heatmap(confusion, annot=True,fmt='d', cmap = 'Blues')\n",
    "\n",
    "print('Report : \\n ', classification_report(y_test, y_pred2))\n",
    "print('Accuracy score  : ' , accuracy_score(y_test, y_pred2))"
   ]
  },
  {
   "cell_type": "markdown",
   "id": "536f4459",
   "metadata": {},
   "source": [
    "### Part 5. Build a Neural Network model"
   ]
  },
  {
   "cell_type": "code",
   "execution_count": 66,
   "id": "eb16b680",
   "metadata": {},
   "outputs": [
    {
     "name": "stdout",
     "output_type": "stream",
     "text": [
      "Model: \"sequential\"\n",
      "_________________________________________________________________\n",
      " Layer (type)                Output Shape              Param #   \n",
      "=================================================================\n",
      " dense_1 (Dense)             (None, 300)               900300    \n",
      "                                                                 \n",
      " dense_2 (Dense)             (None, 30)                9030      \n",
      "                                                                 \n",
      " dense_3 (Dense)             (None, 4)                 124       \n",
      "                                                                 \n",
      " dense_output (Dense)        (None, 1)                 5         \n",
      "                                                                 \n",
      "=================================================================\n",
      "Total params: 909,459\n",
      "Trainable params: 909,459\n",
      "Non-trainable params: 0\n",
      "_________________________________________________________________\n"
     ]
    },
    {
     "name": "stderr",
     "output_type": "stream",
     "text": [
      "2022-06-09 10:44:20.637513: I tensorflow/core/platform/cpu_feature_guard.cc:151] This TensorFlow binary is optimized with oneAPI Deep Neural Network Library (oneDNN) to use the following CPU instructions in performance-critical operations:  AVX2 AVX512F FMA\n",
      "To enable them in other operations, rebuild TensorFlow with the appropriate compiler flags.\n"
     ]
    }
   ],
   "source": [
    "# configure neural network model\n",
    "model = Sequential()\n",
    "model.add(Dense(300, input_shape=(X_train.shape[1], ), activation='tanh',name='dense_1'))\n",
    "model.add(Dense(30, activation='tanh', name='dense_2'))\n",
    "model.add(Dense(4, activation='tanh', name='dense_3'))\n",
    "model.add(Dense(1,  activation='sigmoid', name='dense_output'))\n",
    "model.summary()"
   ]
  },
  {
   "cell_type": "code",
   "execution_count": 67,
   "id": "0ed56e43",
   "metadata": {},
   "outputs": [],
   "source": [
    "from tensorflow import keras\n",
    "model.compile(optimizer=keras.optimizers.Adam(5e-2),\n",
    "              loss=\"binary_crossentropy\",\n",
    "              jit_compile=True,\n",
    "              metrics=\"accuracy\"\n",
    "             )\n"
   ]
  },
  {
   "cell_type": "code",
   "execution_count": 68,
   "id": "5978323b",
   "metadata": {},
   "outputs": [
    {
     "name": "stdout",
     "output_type": "stream",
     "text": [
      "Epoch 1/10\n"
     ]
    },
    {
     "name": "stderr",
     "output_type": "stream",
     "text": [
      "2022-06-09 10:44:21.969158: I tensorflow/compiler/xla/service/service.cc:171] XLA service 0x7fd41b4b3e10 initialized for platform Host (this does not guarantee that XLA will be used). Devices:\n",
      "2022-06-09 10:44:21.969207: I tensorflow/compiler/xla/service/service.cc:179]   StreamExecutor device (0): Host, Default Version\n",
      "2022-06-09 10:44:22.091374: I tensorflow/compiler/mlir/tensorflow/utils/dump_mlir_util.cc:237] disabling MLIR crash reproducer, set env var `MLIR_CRASH_REPRODUCER_DIRECTORY` to enable.\n"
     ]
    },
    {
     "name": "stdout",
     "output_type": "stream",
     "text": [
      " 14/177 [=>............................] - ETA: 0s - loss: 0.6837 - accuracy: 0.6286  "
     ]
    },
    {
     "name": "stderr",
     "output_type": "stream",
     "text": [
      "2022-06-09 10:44:23.228864: I tensorflow/compiler/jit/xla_compilation_cache.cc:399] Compiled cluster using XLA!  This line is logged at most once for the lifetime of the process.\n"
     ]
    },
    {
     "name": "stdout",
     "output_type": "stream",
     "text": [
      "177/177 [==============================] - 4s 8ms/step - loss: 0.5703 - accuracy: 0.7356 - val_loss: 0.4465 - val_accuracy: 0.8223\n",
      "Epoch 2/10\n",
      "177/177 [==============================] - 1s 8ms/step - loss: 0.4384 - accuracy: 0.8305 - val_loss: 0.4552 - val_accuracy: 0.8325\n",
      "Epoch 3/10\n",
      "177/177 [==============================] - 1s 8ms/step - loss: 0.3947 - accuracy: 0.8441 - val_loss: 0.3856 - val_accuracy: 0.8426\n",
      "Epoch 4/10\n",
      "177/177 [==============================] - 1s 6ms/step - loss: 0.3542 - accuracy: 0.8605 - val_loss: 0.3725 - val_accuracy: 0.7970\n",
      "Epoch 5/10\n",
      "177/177 [==============================] - 1s 6ms/step - loss: 0.3346 - accuracy: 0.8672 - val_loss: 0.3960 - val_accuracy: 0.8477\n",
      "Epoch 6/10\n",
      "177/177 [==============================] - 1s 6ms/step - loss: 0.3014 - accuracy: 0.8802 - val_loss: 0.3326 - val_accuracy: 0.8528\n",
      "Epoch 7/10\n",
      "177/177 [==============================] - 1s 6ms/step - loss: 0.2924 - accuracy: 0.8887 - val_loss: 0.3863 - val_accuracy: 0.8528\n",
      "Epoch 8/10\n",
      "177/177 [==============================] - 1s 7ms/step - loss: 0.2721 - accuracy: 0.9079 - val_loss: 0.3572 - val_accuracy: 0.8782\n",
      "Epoch 9/10\n",
      "177/177 [==============================] - 1s 6ms/step - loss: 0.2775 - accuracy: 0.9006 - val_loss: 0.4207 - val_accuracy: 0.8477\n",
      "Epoch 10/10\n",
      "177/177 [==============================] - 2s 9ms/step - loss: 0.2819 - accuracy: 0.8921 - val_loss: 0.3615 - val_accuracy: 0.8477\n"
     ]
    }
   ],
   "source": [
    "# fitting training set to the model\n",
    "hist = model.fit(X_train, y_train, batch_size=10, epochs=10, validation_data = (X_test, y_test))"
   ]
  },
  {
   "cell_type": "markdown",
   "id": "d86a90fa",
   "metadata": {},
   "source": [
    "### Part 6. Visualize and evaluation performance of the model"
   ]
  },
  {
   "cell_type": "code",
   "execution_count": 69,
   "id": "7208921f",
   "metadata": {},
   "outputs": [
    {
     "data": {
      "image/png": "[encoded data removed]",
      "text/plain": [
       "<Figure size 432x288 with 1 Axes>"
      ]
     },
     "metadata": {
      "needs_background": "light"
     },
     "output_type": "display_data"
    },
    {
     "data": {
      "image/png": "[encoded data removed]",
      "text/plain": [
       "<Figure size 432x288 with 1 Axes>"
      ]
     },
     "metadata": {
      "needs_background": "light"
     },
     "output_type": "display_data"
    }
   ],
   "source": [
    "#visualize the training loss and the validation loss to see if the model is overfitting\n",
    "import matplotlib.pyplot as plt\n",
    "plt.plot(hist.history['loss'])\n",
    "plt.plot(hist.history['val_loss'])\n",
    "plt.title('Model loss')\n",
    "plt.ylabel('Loss')\n",
    "plt.xlabel('Epoch')\n",
    "plt.legend(['Train', 'Val'], loc='upper right')\n",
    "plt.show()\n",
    "plt.plot(hist.history['accuracy'], label='accuracy')\n",
    "plt.plot(hist.history['val_accuracy'], label = 'val_accuracy')\n",
    "plt.xlabel('Epoch')\n",
    "plt.ylabel('Accuracy')\n",
    "plt.ylim([0, 1])\n",
    "plt.legend(loc='lower right')\n",
    "\n",
    "plt.show()"
   ]
  },
  {
   "cell_type": "code",
   "execution_count": 70,
   "id": "70020026",
   "metadata": {},
   "outputs": [
    {
     "name": "stdout",
     "output_type": "stream",
     "text": [
      "62/62 [==============================] - 0s 4ms/step - loss: 0.2851 - accuracy: 0.8785\n"
     ]
    },
    {
     "data": {
      "text/plain": [
       "[0.2850661277770996, 0.8784951567649841]"
      ]
     },
     "execution_count": 70,
     "metadata": {},
     "output_type": "execute_result"
    }
   ],
   "source": [
    "# evaluate the model\n",
    "model.evaluate(X,y)"
   ]
  },
  {
   "cell_type": "code",
   "execution_count": 86,
   "id": "1c49510a",
   "metadata": {},
   "outputs": [
    {
     "name": "stdout",
     "output_type": "stream",
     "text": [
      "(1770,)\n"
     ]
    },
    {
     "data": {
      "text/plain": [
       "<AxesSubplot:>"
      ]
     },
     "execution_count": 86,
     "metadata": {},
     "output_type": "execute_result"
    },
    {
     "data": {
      "image/png": "[encoded data removed]",
      "text/plain": [
       "<Figure size 432x288 with 2 Axes>"
      ]
     },
     "metadata": {
      "needs_background": "light"
     },
     "output_type": "display_data"
    }
   ],
   "source": [
    "# prediction on train set\n",
    "# pred = model.predict(X_train)[:,0]\n",
    "seq_predictions=model.predict(X_train)\n",
    "# print('Outputs shape')    \n",
    "# print(seq_predictions.shape) # prints (n,1) but  need (n,)\n",
    "seq_predictions=np.transpose(seq_predictions)[0]  # transformation to get (n,)\n",
    "print(seq_predictions.shape)  # now the shape is (n,)\n",
    "# Applying transformation to get binary values predictions with 0.5 as thresold\n",
    "seq_predictions = list(map(lambda x: 0 if x<0.5 else 1, seq_predictions))\n",
    "\n",
    "# plot confusion metrix\n",
    "# confusion metrix\n",
    "confusion = tf.math.confusion_matrix(y_train, seq_predictions)\n",
    "sns.heatmap(confusion, annot=True,fmt='d', cmap = 'Blues')"
   ]
  },
  {
   "cell_type": "code",
   "execution_count": 87,
   "id": "97849b28",
   "metadata": {},
   "outputs": [
    {
     "name": "stdout",
     "output_type": "stream",
     "text": [
      "precision of predicting positive news is 0.88\n",
      "sentence   sale finland decrease international sale decrease term euro term local currency\n",
      "Outputs shape\n",
      "sentence   February Elcoteq group sell st petersburg facility accord unconfirmed information reason supply problem Russian custom service\n",
      "Outputs shape\n",
      "sentence   February Elcoteq group sell st petersburg facility accord unconfirmed information reason supply problem Russian custom service\n",
      "Outputs shape\n",
      "sentence   ` ` operate profit decline mainly increase cost wood recycled fiber strengthened euro\n",
      "Outputs shape\n",
      "sentence   operate profit decline mainly increase cost wood recycled fiber strengthened euro\n",
      "Outputs shape\n",
      "sentence   upm kymmene corp. world large maker magazine paper Tuesday report percent profit drop low paper price high cost strong euro hurt revenue\n",
      "Outputs shape\n",
      "sentence   upm kymmene corp. world large maker magazine paper Tuesday report percent profit drop low paper price high cost strong euro hurt revenue\n",
      "Outputs shape\n",
      "sentence   upm kymmene corp. world large maker magazine paper Tuesday report percent profit drop low paper price high cost strong euro hurt revenue\n",
      "Outputs shape\n",
      "sentence   Bosse add Trygvesta financial strength acquire entire unit\n",
      "Outputs shape\n",
      "sentence   Bosse add Trygvesta financial strength acquire entire unit\n",
      "Outputs shape\n",
      "sentence   Finnish meat Atria long promise sufficient domestic beef customer\n",
      "Outputs shape\n",
      "sentence   Finnish meat Atria long promise sufficient domestic beef customer\n",
      "Outputs shape\n",
      "sentence   Finnish meat Atria long promise sufficient domestic beef customer\n",
      "Outputs shape\n",
      "sentence   Finnish meat Atria long promise sufficient domestic beef customer\n",
      "Outputs shape\n",
      "sentence   qualcomm estimate quarter profit cent share exclude certain item analyst estimate cent share\n",
      "Outputs shape\n"
     ]
    }
   ],
   "source": [
    "precise = tf.keras.metrics.PrecisionAtRecall(0.5)\n",
    "precise.update_state(y_train, seq_predictions)\n",
    "print('precision of predicting positive news is %.2f' % precise.result().numpy())"
   ]
  },
  {
   "cell_type": "code",
   "execution_count": 83,
   "id": "df567622",
   "metadata": {},
   "outputs": [
    {
     "name": "stdout",
     "output_type": "stream",
     "text": [
      "(197,)\n"
     ]
    },
    {
     "data": {
      "text/plain": [
       "<AxesSubplot:>"
      ]
     },
     "execution_count": 83,
     "metadata": {},
     "output_type": "execute_result"
    },
    {
     "data": {
      "image/png": "[encoded data removed]",
      "text/plain": [
       "<Figure size 432x288 with 2 Axes>"
      ]
     },
     "metadata": {
      "needs_background": "light"
     },
     "output_type": "display_data"
    }
   ],
   "source": [
    "# prediction on test set\n",
    "# pred = model.predict(X_test)[:,0]\n",
    "\n",
    "seq_predictions=model.predict(X_test)\n",
    "# print('Outputs shape')    \n",
    "# print(seq_predictions.shape) # prints (n,1) but  need (n,)\n",
    "seq_predictions=np.transpose(seq_predictions)[0]  # transformation to get (n,)\n",
    "print(seq_predictions.shape)  # now the shape is (n,)\n",
    "# Applying transformation to get binary values predictions with 0.5 as thresold\n",
    "seq_predictions = list(map(lambda x: 0 if x<0.5 else 1, seq_predictions))\n",
    "\n",
    "# confusion metrix\n",
    "# confusion metrix\n",
    "confusion = tf.math.confusion_matrix(y_test, seq_predictions)\n",
    "sns.heatmap(confusion, annot=True,fmt='d', cmap = 'Blues')"
   ]
  },
  {
   "cell_type": "code",
   "execution_count": 85,
   "id": "ba7132e7",
   "metadata": {},
   "outputs": [
    {
     "name": "stdout",
     "output_type": "stream",
     "text": [
      "precision of predicting positive news is 0.84\n"
     ]
    }
   ],
   "source": [
    "# testing set\n",
    "precise = tf.keras.metrics.PrecisionAtRecall(0.5)\n",
    "precise.update_state(y_test, seq_predictions)\n",
    "print('precision of predicting positive news is %.2f' % precise.result().numpy())"
   ]
  },
  {
   "cell_type": "code",
   "execution_count": 74,
   "id": "8d73222c",
   "metadata": {},
   "outputs": [
    {
     "data": {
      "text/plain": [
       "[<matplotlib.lines.Line2D at 0x7fd416bf2fa0>]"
      ]
     },
     "execution_count": 74,
     "metadata": {},
     "output_type": "execute_result"
    },
    {
     "data": {
      "image/png": "[encoded data removed]",
      "text/plain": [
       "<Figure size 432x288 with 1 Axes>"
      ]
     },
     "metadata": {
      "needs_background": "light"
     },
     "output_type": "display_data"
    }
   ],
   "source": [
    "# visualize ROC \n",
    "nn_fpr_keras, nn_tpr_keras, nn_thresholds_keras = roc_curve(y_test, seq_predictions)\n",
    "auc_keras = auc(nn_fpr_keras, nn_tpr_keras)\n",
    "plt.plot(nn_fpr_keras, nn_tpr_keras, marker='.', label='Neural Network (auc = %0.3f)' % auc_keras)\n"
   ]
  },
  {
   "cell_type": "code",
   "execution_count": 75,
   "id": "e45cc034",
   "metadata": {},
   "outputs": [
    {
     "data": {
      "text/plain": [
       "array([[0.6207531094551086, 0,\n",
       "        'in the baltic states the company reports net sales of eur      mn   down from eur      mn   and an operative ebit of eur      mn   down from eur      mn  '],\n",
       "       [0.3112460672855377, 0,\n",
       "        'operating profits in the half were      m   down from      m as glisten invested in the brand and the management team  '],\n",
       "       [0.055012643337249756, 0,\n",
       "        'sales in finland decreased by         and international sales decreased by       in terms of euros   and by        in terms of local currencies  '],\n",
       "       [0.09690225124359131, 0,\n",
       "        'the company said that its comparable operating profit for the january june period fell short of last year  s corresponding performance  '],\n",
       "       [0.06549641489982605, 0,\n",
       "        'operating result for the    month period decreased from the profit of eur     m while turnover decreased from eur     m   as compared to       '],\n",
       "       [0.029295027256011963, 0,\n",
       "        'helsinki thomson financial   shares in cargotec fell sharply in early afternoon trade after the cargo handling group posted a surprise drop in april june profits   which overshadowed the large number of new orders received during the three months  '],\n",
       "       [0.10578286647796631, 0,\n",
       "        'london marketwatch    share prices ended lower in london monday as a rebound in bank stocks failed to offset broader weakness for the ftse      '],\n",
       "       [0.6207531094551086, 0,\n",
       "        'operating profit fell to eur      mn from eur      mn in        including vessel sales gain of eur      mn  '],\n",
       "       [0.6207531094551086, 0,\n",
       "        'net sales of the paper segment decreased to eur       mn in the second quarter of      from eur       mn in the second quarter of        while operating profit excluding non recurring items rose to eur     mn from eur     mn  '],\n",
       "       [0.11898323893547058, 0,\n",
       "        'sales in finland decreased by        in january   while sales outside finland dropped by       ']],\n",
       "      dtype=object)"
      ]
     },
     "execution_count": 75,
     "metadata": {},
     "output_type": "execute_result"
    }
   ],
   "source": [
    "# create a dataframe of probability of prediction from stacking model\n",
    "pp_nn = pd.DataFrame({\n",
    "        'prob_positive':model.predict(X)[:,0],\n",
    "        'label' : data['Sentiment'],\n",
    "        'title' : data['News Headline'],\n",
    "        \n",
    "    })\n",
    "pp_nn.tail(10).values"
   ]
  },
  {
   "cell_type": "code",
   "execution_count": 76,
   "id": "26810703",
   "metadata": {},
   "outputs": [
    {
     "data": {
      "text/plain": [
       "array([[0.11898323893547058, 0,\n",
       "        'the international electronic industry company elcoteq has laid off tens of employees from its tallinn facility   contrary to earlier layoffs the company contracted the ranks of its office workers   the daily postimees reported  '],\n",
       "       [0.029295027256011963, 0,\n",
       "        'a tinyurl link takes users to a scamming site promising that users can earn thousands of dollars by becoming a google   nasdaq   goog   cash advertiser  '],\n",
       "       [0.9710583686828613, 0,\n",
       "        'compared with the ftse     index   which rose      points   or         on the day   this was a relative price change of         '],\n",
       "       ...,\n",
       "       [0.6207531094551086, 0,\n",
       "        'operating profit fell to eur      mn from eur      mn in        including vessel sales gain of eur      mn  '],\n",
       "       [0.6207531094551086, 0,\n",
       "        'net sales of the paper segment decreased to eur       mn in the second quarter of      from eur       mn in the second quarter of        while operating profit excluding non recurring items rose to eur     mn from eur     mn  '],\n",
       "       [0.11898323893547058, 0,\n",
       "        'sales in finland decreased by        in january   while sales outside finland dropped by       ']],\n",
       "      dtype=object)"
      ]
     },
     "execution_count": 76,
     "metadata": {},
     "output_type": "execute_result"
    }
   ],
   "source": [
    "#filter news context with negative sentiments\n",
    "pp_nn[pp_nn['label']==0].values"
   ]
  },
  {
   "cell_type": "markdown",
   "id": "1f5663bd",
   "metadata": {},
   "source": [
    "### Part 7. Deployment with Gradio"
   ]
  },
  {
   "cell_type": "code",
   "execution_count": 77,
   "id": "7908b90a",
   "metadata": {},
   "outputs": [
    {
     "name": "stdout",
     "output_type": "stream",
     "text": [
      "Running on local URL:  http://127.0.0.1:7860/\n",
      "Running on public URL: https://34347.gradio.app\n",
      "\n",
      "This share link expires in 72 hours. For free permanent hosting, check out Spaces (https://huggingface.co/spaces)\n"
     ]
    },
    {
     "data": {
      "text/html": [
       "\n",
       "        <iframe\n",
       "            width=\"900\"\n",
       "            height=\"500\"\n",
       "            src=\"https://34347.gradio.app\"\n",
       "            frameborder=\"0\"\n",
       "            allowfullscreen\n",
       "            \n",
       "        ></iframe>\n",
       "        "
      ],
      "text/plain": [
       "<IPython.lib.display.IFrame at 0x7fd417bb7880>"
      ]
     },
     "metadata": {},
     "output_type": "display_data"
    },
    {
     "data": {
      "text/plain": [
       "(<fastapi.applications.FastAPI at 0x7fd438194760>,\n",
       " 'http://127.0.0.1:7860/',\n",
       " 'https://34347.gradio.app')"
      ]
     },
     "execution_count": 77,
     "metadata": {},
     "output_type": "execute_result"
    }
   ],
   "source": [
    "def inference(text):\n",
    "    #-----------------\n",
    "#     text = text.str.lower()\n",
    "    re.sub(\"[^a-zA-Z]\",\" \",text)\n",
    "    # apply the clean text function into text\n",
    "    news = convert_text(text)\n",
    "    \n",
    "    # create word/token sentence \n",
    "    \n",
    "    tokens = nltk.word_tokenize(news)\n",
    "    tokens_no_stop = [word for word in tokens if not word in stopWords]\n",
    "    \n",
    "    for row,t in enumerate(tokens_no_stop):\n",
    "        for i in enumerate(tokens_no_stop[row]):\n",
    "            result = (' '.join(str(x) for x in tokens_no_stop[row]))\n",
    "    # the news without stopwords\n",
    "    news_clean = []\n",
    "    for count, value in enumerate(tokens_no_stop):\n",
    "        news_clean = ' '.join(tokens_no_stop)\n",
    "    print('sentence  ', news_clean)\n",
    "    \n",
    "    # convert str to list without split text\n",
    "    news_sent = []\n",
    "    news_sent.append(news_clean)\n",
    "    \n",
    "    # Count Vectorizer\n",
    "    words_news = cv.transform(news_sent)\n",
    "    test_cv = pd.DataFrame(words_news.toarray(), columns=cv.get_feature_names_out())\n",
    "    \n",
    "    #model prediction\n",
    "    seq_predictions=model.predict(test_cv)\n",
    "    print('Outputs shape')    \n",
    "#     print(seq_predictions.shape) # prints (n,1) but  need (n,)\n",
    "    seq_predictions=np.transpose(seq_predictions)[0]  # transformation to get (n,)\n",
    "#     print(seq_predictions.shape)  # now the shape is (n,)\n",
    "\n",
    "    # Applying transformation to get binary values predictions with 0.5 as thresold\n",
    "    seq_predictions = list(map(lambda x: 0 if x<0.5 else 1, seq_predictions))\n",
    "    res = 'Positive Sentiment'if seq_predictions[0] == 1 else 'Negative Sentiment'\n",
    "   \n",
    "    return res\n",
    "    #-----------------\n",
    "    \n",
    "text = gr.inputs.Textbox(placeholder=\"What is your news headline?\", lines=3)\n",
    "\n",
    "gr.Interface(inference, \n",
    "             inputs=[text],  \n",
    "             outputs=gr.outputs.Label(), \n",
    "             live=False).launch(share=True) #, debug=True Use in Colab\n"
   ]
  },
  {
   "cell_type": "code",
   "execution_count": null,
   "id": "ba102455",
   "metadata": {},
   "outputs": [],
   "source": []
  },
  {
   "cell_type": "code",
   "execution_count": null,
   "id": "c911790a",
   "metadata": {},
   "outputs": [],
   "source": []
  },
  {
   "cell_type": "raw",
   "id": "b81e84b9",
   "metadata": {},
   "source": [
    "Next improvement\n",
    " - use larger size of dataset to train\n",
    " - apply different techniques of NLP text preprocessing"
   ]
  },
  {
   "cell_type": "code",
   "execution_count": null,
   "id": "f4dd9356",
   "metadata": {},
   "outputs": [],
   "source": []
  }
 ],
 "metadata": {
  "kernelspec": {
   "display_name": "Python 3 (ipykernel)",
   "language": "python",
   "name": "python3"
  },
  "language_info": {
   "codemirror_mode": {
    "name": "ipython",
    "version": 3
   },
   "file_extension": ".py",
   "mimetype": "text/x-python",
   "name": "python",
   "nbconvert_exporter": "python",
   "pygments_lexer": "ipython3",
   "version": "3.9.7"
  }
 },
 "nbformat": 4,
 "nbformat_minor": 5
}
